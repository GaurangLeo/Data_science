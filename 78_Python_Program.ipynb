{
 "cells": [
  {
   "cell_type": "code",
   "execution_count": 1,
   "id": "3cda6530-cb77-4ff4-8c30-0b2edfd12ecd",
   "metadata": {},
   "outputs": [
    {
     "name": "stdout",
     "output_type": "stream",
     "text": [
      "Hello World\n"
     ]
    }
   ],
   "source": [
    "# Print \"Hello World\"\n",
    "print(\"Hello World\")"
   ]
  },
  {
   "cell_type": "code",
   "execution_count": 6,
   "id": "00cc405a-6aac-455c-8795-557c8d14fdd2",
   "metadata": {},
   "outputs": [
    {
     "name": "stdin",
     "output_type": "stream",
     "text": [
      "Enter a number between 1 to 100: 5\n"
     ]
    },
    {
     "name": "stdout",
     "output_type": "stream",
     "text": [
      "entered number is : 5\n"
     ]
    }
   ],
   "source": [
    "#Take user input and print it\n",
    "a = int(input(\"Enter a number between 1 to 100:\"))\n",
    "print(f\"entered number is : {a}\")"
   ]
  },
  {
   "cell_type": "code",
   "execution_count": 12,
   "id": "54208033-ab9a-4f08-83ae-af0a2ec938c1",
   "metadata": {},
   "outputs": [
    {
     "name": "stdout",
     "output_type": "stream",
     "text": [
      "before swap:\n",
      "a = 15\n",
      "b= 9\n",
      "After swap:\n",
      "a = 9\n",
      "b= 15\n"
     ]
    }
   ],
   "source": [
    "#swap two variable\n",
    "\n",
    "a = 15\n",
    "b = 9\n",
    "\n",
    "print(\"before swap:\")\n",
    "print(\"a =\",a)\n",
    "print(\"b=\", b)\n",
    "\n",
    "c=a\n",
    "a=b\n",
    "b=c\n",
    "\n",
    "print(\"After swap:\")\n",
    "print(\"a =\",a)\n",
    "print(\"b=\", b)\n"
   ]
  },
  {
   "cell_type": "code",
   "execution_count": 16,
   "id": "06117793-54a0-4db5-bd5d-9fd9f4e4a888",
   "metadata": {},
   "outputs": [
    {
     "name": "stdin",
     "output_type": "stream",
     "text": [
      "Enter a number: 567\n"
     ]
    },
    {
     "name": "stdout",
     "output_type": "stream",
     "text": [
      "Entered number is odd\n"
     ]
    }
   ],
   "source": [
    "#check if number is odd or even\n",
    "a = int(input(\"Enter a number:\"))\n",
    "\n",
    "if a%2==0 :\n",
    "    print(\"Entered number is even\")\n",
    "else :\n",
    "    print(\"Entered number is odd\")"
   ]
  },
  {
   "cell_type": "code",
   "execution_count": 20,
   "id": "aeb280b2-c3a8-4ec2-906e-642c1e6df8ff",
   "metadata": {},
   "outputs": [
    {
     "name": "stdin",
     "output_type": "stream",
     "text": [
      "Enter a number: 5\n",
      "Enter a number: 678\n"
     ]
    },
    {
     "name": "stdout",
     "output_type": "stream",
     "text": [
      "678 is bigger than 5\n"
     ]
    }
   ],
   "source": [
    "#find the larget of two numbers\n",
    "a = int(input(\"Enter a number:\"))\n",
    "b = int(input(\"Enter a number:\"))\n",
    "\n",
    "if a > b :\n",
    "    print(f\"{a} is bigger than {b}\")\n",
    "else :\n",
    "    print(f\"{b} is bigger than {a}\")"
   ]
  },
  {
   "cell_type": "code",
   "execution_count": 22,
   "id": "4b260b4b-08ea-455b-8a89-c481e1475c9b",
   "metadata": {},
   "outputs": [
    {
     "name": "stdin",
     "output_type": "stream",
     "text": [
      "Enter a number: 44\n",
      "Enter a number: 3\n"
     ]
    },
    {
     "name": "stdout",
     "output_type": "stream",
     "text": [
      "Sum = 47\n",
      "Difference = 41\n",
      "Multiplication = 132\n",
      "Division = 14.666666666666666\n",
      "Remainder = 2\n",
      "Exponentiation = 85184\n"
     ]
    }
   ],
   "source": [
    "# perform arithmetic operations (+,-,*,/,%,**), take any values as \"a\" and \"b\"\n",
    "\n",
    "a = int(input(\"Enter a number:\"))\n",
    "b = int(input(\"Enter a number:\"))\n",
    "\n",
    "sum = a + b\n",
    "substract = a - b\n",
    "multiply = a*b\n",
    "division = a/b\n",
    "remainder = a%b\n",
    "exponentiation = a**b\n",
    "\n",
    "print(\"Sum =\", sum)\n",
    "print(\"Difference =\", substract)\n",
    "print(\"Multiplication =\", multiply)\n",
    "print(\"Division =\", division)\n",
    "print(\"Remainder =\", remainder)\n",
    "print(\"Exponentiation =\", exponentiation)\n"
   ]
  },
  {
   "cell_type": "code",
   "execution_count": 23,
   "id": "04948ad4-e3dc-47a3-afca-e279f6a6a128",
   "metadata": {},
   "outputs": [
    {
     "name": "stdin",
     "output_type": "stream",
     "text": [
      "Enter a number: 3\n"
     ]
    },
    {
     "name": "stdout",
     "output_type": "stream",
     "text": [
      "Sqaure of entered number : 9\n",
      "Cube of entered number : 27\n"
     ]
    }
   ],
   "source": [
    "#calculate the square and cube of a number \n",
    "\n",
    "a = int(input(\"Enter a number:\"))\n",
    "\n",
    "sq = a*a\n",
    "\n",
    "cube = a*a*a\n",
    "\n",
    "print(\"Sqaure of entered number :\", sq)\n",
    "print(\"Cube of entered number :\", cube)\n"
   ]
  },
  {
   "cell_type": "code",
   "execution_count": 27,
   "id": "f4a079cd-7949-4cc6-80d3-e98770013e8c",
   "metadata": {},
   "outputs": [
    {
     "name": "stdin",
     "output_type": "stream",
     "text": [
      "please enter temperature in degree celcius 1\n"
     ]
    },
    {
     "name": "stdout",
     "output_type": "stream",
     "text": [
      "Temperature in Fahrenheit 33.8\n"
     ]
    }
   ],
   "source": [
    "#Convert Celsius to Fahrenheit \n",
    "\n",
    "C = int(input(\"please enter temperature in degree celcius\"))\n",
    "\n",
    "F = (C*9/5)+32\n",
    "\n",
    "print(\"Temperature in Fahrenheit\",F)"
   ]
  },
  {
   "cell_type": "code",
   "execution_count": 30,
   "id": "eae742d2-659c-4394-b159-637cd7e5513b",
   "metadata": {},
   "outputs": [
    {
     "name": "stdin",
     "output_type": "stream",
     "text": [
      "Please enter a distance in kilometers: 1\n"
     ]
    },
    {
     "name": "stdout",
     "output_type": "stream",
     "text": [
      "Distance in miles 0.621371\n"
     ]
    }
   ],
   "source": [
    "#convert kilometers to miles \n",
    "\n",
    "a = int(input(\"Please enter a distance in kilometers:\"))\n",
    "\n",
    "dis_miles = a * 0.621371\n",
    "\n",
    "print(\"Distance in miles\", dis_miles)"
   ]
  },
  {
   "cell_type": "code",
   "execution_count": 34,
   "id": "ae0aed93-413a-43e7-81d1-bd0f0e44515d",
   "metadata": {},
   "outputs": [
    {
     "name": "stdin",
     "output_type": "stream",
     "text": [
      "Please enter a number: -55\n"
     ]
    },
    {
     "name": "stdout",
     "output_type": "stream",
     "text": [
      "Number is negative\n"
     ]
    }
   ],
   "source": [
    "#check if number is positive, negative or zero\n",
    "\n",
    "a = int(input(\"Please enter a number:\"))\n",
    "\n",
    "if a > 0:\n",
    "        print(\"Number is positive\")\n",
    "elif a < 0:\n",
    "        print(\"Number is negative\")\n",
    "else:\n",
    "        print(\"Number is zero\")"
   ]
  },
  {
   "cell_type": "code",
   "execution_count": 37,
   "id": "06016e56-294f-40a3-8cd7-b300e44f2b80",
   "metadata": {},
   "outputs": [
    {
     "name": "stdin",
     "output_type": "stream",
     "text": [
      "Please enter a number: 44\n",
      "Please enter a number: 45\n",
      "Please enter a number: 43\n"
     ]
    },
    {
     "name": "stdout",
     "output_type": "stream",
     "text": [
      "45 is the larget number among the three value entered\n"
     ]
    }
   ],
   "source": [
    "#find largest number among the three numbers\n",
    "\n",
    "b = int(input(\"Please enter a number:\"))\n",
    "a = int(input(\"Please enter a number:\"))\n",
    "c = int(input(\"Please enter a number:\"))\n",
    "\n",
    "if a > b and a > c :\n",
    "    print(f\"{a} is the larget number among the three value entered\")\n",
    "elif b > a and b > c :\n",
    "    print(f\"{b} is the larget number among the three value entered\")\n",
    "else :\n",
    "    print(f\"{c} is the larget number among the three value entered\")\n"
   ]
  },
  {
   "cell_type": "code",
   "execution_count": 43,
   "id": "0b3d6c74-aeaa-407f-ba98-6b3415565d68",
   "metadata": {},
   "outputs": [
    {
     "name": "stdin",
     "output_type": "stream",
     "text": [
      "please enter a year 2024\n"
     ]
    },
    {
     "name": "stdout",
     "output_type": "stream",
     "text": [
      "It is a leap year\n"
     ]
    }
   ],
   "source": [
    "#check if year is leap year\n",
    "\n",
    "a = int(input(\"please enter a year\"))\n",
    "\n",
    "if a%4 == 0 :\n",
    "    if a%100 == 0:\n",
    "        if a%400 == 0:\n",
    "            print(\"It is a leap year\")\n",
    "        else:\n",
    "            print(\"It is not a leap year \")\n",
    "    else :\n",
    "        print(\"It is a leap year\")\n",
    "else:\n",
    "    print(\"It is not a leap year\")\n",
    "        "
   ]
  },
  {
   "cell_type": "code",
   "execution_count": 49,
   "id": "bfdcebdd-80a7-4bc8-942b-691265e6e36a",
   "metadata": {},
   "outputs": [
    {
     "name": "stdin",
     "output_type": "stream",
     "text": [
      "please enter a alphabet g\n"
     ]
    },
    {
     "name": "stdout",
     "output_type": "stream",
     "text": [
      "Given alphabet is consonant\n"
     ]
    }
   ],
   "source": [
    "#check if a character is vowel or consonant\n",
    "\n",
    "vowel = ['a','e','i','o','u']\n",
    "\n",
    "a_a = str(input(\"please enter a alphabet\"))\n",
    "\n",
    "if a_a in vowel:\n",
    "    print(\"Given alphabet is vowel\")\n",
    "else :\n",
    "    print(\"Given alphabet is consonant\")\n",
    "\n",
    "    \n"
   ]
  },
  {
   "cell_type": "code",
   "execution_count": 53,
   "id": "7d6b7937-c3dc-4436-89e8-493b0837b7f4",
   "metadata": {},
   "outputs": [
    {
     "name": "stdin",
     "output_type": "stream",
     "text": [
      "Please enter a marks for subject maths 77\n",
      "Please enter a marks for subject science 44\n",
      "Please enter a marks for subject english 33\n"
     ]
    },
    {
     "name": "stdout",
     "output_type": "stream",
     "text": [
      "The grade of student for subject maths is : C\n",
      "The grade of student for subject science is : F\n",
      "The grade of student for subject english is : F\n"
     ]
    }
   ],
   "source": [
    "#write a program to assign grades to subjects on marks\n",
    "a = int(input(\"Please enter a marks for subject maths\"))\n",
    "b = int(input(\"Please enter a marks for subject science\"))\n",
    "c = int(input(\"Please enter a marks for subject english\"))\n",
    "\n",
    "\n",
    "def grade_student(score):\n",
    "    if score >= 90:\n",
    "        return 'A'\n",
    "    elif score >= 80:\n",
    "        return 'B'\n",
    "    elif score >= 70:\n",
    "        return 'C'\n",
    "    elif score >= 60:\n",
    "        return 'D'\n",
    "    elif score >= 50:\n",
    "        return 'E'\n",
    "    else:\n",
    "        return 'F' \n",
    "\n",
    "a_grade= grade_student(a)\n",
    "b_grade= grade_student(b)\n",
    "c_grade= grade_student(c)\n",
    "\n",
    "print(f\"The grade of student for subject maths is : {a_grade}\")\n",
    "print(f\"The grade of student for subject science is : {b_grade}\")\n",
    "print(f\"The grade of student for subject english is : {c_grade}\")\n"
   ]
  },
  {
   "cell_type": "code",
   "execution_count": 57,
   "id": "9ccf6273-93a5-4f2e-b1c4-19afa69e79c8",
   "metadata": {},
   "outputs": [
    {
     "name": "stdin",
     "output_type": "stream",
     "text": [
      "Please enter a number : 5\n"
     ]
    },
    {
     "name": "stdout",
     "output_type": "stream",
     "text": [
      "Number not is divisible by both 5 and 11 \n"
     ]
    }
   ],
   "source": [
    "#write a program to check if number is divisible by both 5 and 11\n",
    "\n",
    "a = int(input(\"Please enter a number :\"))\n",
    "\n",
    "if a%5==0 and a%11== 0:\n",
    "    print(\"Number is divisible by both 5 and 11 \")\n",
    "else:\n",
    "    print(\"Number not is divisible by both 5 and 11 \")"
   ]
  },
  {
   "cell_type": "code",
   "execution_count": 61,
   "id": "e97797e1-5599-41bd-9cc7-ce944b32b5ae",
   "metadata": {},
   "outputs": [
    {
     "name": "stdin",
     "output_type": "stream",
     "text": [
      "Please enter a number : 11\n"
     ]
    },
    {
     "name": "stdout",
     "output_type": "stream",
     "text": [
      "1\n",
      "2\n",
      "3\n",
      "4\n",
      "5\n",
      "6\n",
      "7\n",
      "8\n",
      "9\n",
      "10\n",
      "11\n"
     ]
    }
   ],
   "source": [
    "# print number from 1 to the given number N\n",
    "\n",
    "a = int(input(\"Please enter a number :\"))\n",
    "i = 1\n",
    "while a > 0:\n",
    "    print(i)\n",
    "    i = i + 1\n",
    "    a = a - 1\n"
   ]
  },
  {
   "cell_type": "code",
   "execution_count": 69,
   "id": "45090679-5d1a-451b-912c-8de7789bc810",
   "metadata": {},
   "outputs": [
    {
     "name": "stdin",
     "output_type": "stream",
     "text": [
      "Please enter a number : 12\n"
     ]
    },
    {
     "name": "stdout",
     "output_type": "stream",
     "text": [
      "2\n",
      "4\n",
      "6\n",
      "8\n",
      "10\n",
      "12\n"
     ]
    }
   ],
   "source": [
    "# print even numbers upto given number N\n",
    "\n",
    "a = int(input(\"Please enter a number :\"))\n",
    "i = 1\n",
    "while a > 0:\n",
    "    if i%2 == 0:\n",
    "        print(i)\n",
    "    i = i + 1\n",
    "    a = a - 1"
   ]
  },
  {
   "cell_type": "code",
   "execution_count": 73,
   "id": "a27dc41e-02a0-4d95-9578-9ab17e2ae84c",
   "metadata": {},
   "outputs": [
    {
     "name": "stdin",
     "output_type": "stream",
     "text": [
      "Please enter a number : 1234\n"
     ]
    },
    {
     "name": "stdout",
     "output_type": "stream",
     "text": [
      "761995.0\n"
     ]
    }
   ],
   "source": [
    "#sum of first N natural numbers \n",
    "\n",
    "n = int(input(\"Please enter a number :\"))\n",
    "\n",
    "sum = n*(n+1)/2\n",
    "\n",
    "print(sum)\n"
   ]
  },
  {
   "cell_type": "code",
   "execution_count": 82,
   "id": "42cbfde3-89cd-42c4-8142-093787b87357",
   "metadata": {},
   "outputs": [
    {
     "name": "stdin",
     "output_type": "stream",
     "text": [
      "Please enter a number : 7\n"
     ]
    },
    {
     "name": "stdout",
     "output_type": "stream",
     "text": [
      "factorial on 7 is 5040\n"
     ]
    }
   ],
   "source": [
    "#calculate factorial of number\n",
    "\n",
    "n = int(input(\"Please enter a number :\"))\n",
    "fact = 1\n",
    "\n",
    "for i in range (1, n+1):\n",
    "    fact *= i\n",
    "\n",
    "print(f\"factorial on {n} is {fact}\")\n"
   ]
  },
  {
   "cell_type": "code",
   "execution_count": 85,
   "id": "e6f350ca-d34b-42d3-9a7e-0038d970d572",
   "metadata": {},
   "outputs": [
    {
     "name": "stdin",
     "output_type": "stream",
     "text": [
      "Please enter a number : 6\n"
     ]
    },
    {
     "name": "stdout",
     "output_type": "stream",
     "text": [
      "6*1 = 6\n",
      "6*2 = 12\n",
      "6*3 = 18\n",
      "6*4 = 24\n",
      "6*5 = 30\n",
      "6*6 = 36\n",
      "6*7 = 42\n",
      "6*8 = 48\n",
      "6*9 = 54\n",
      "6*10 = 60\n"
     ]
    }
   ],
   "source": [
    "#print mutliplication table of a number \n",
    "\n",
    "n = int(input(\"Please enter a number :\"))\n",
    "\n",
    "i = 1\n",
    "\n",
    "for i in range (1, 11):\n",
    "    b = n * i\n",
    "    print(f\"{n}*{i} = {b}\")"
   ]
  },
  {
   "cell_type": "code",
   "execution_count": 3,
   "id": "7ec4b7d9-3393-489b-8080-aca41e53ac54",
   "metadata": {},
   "outputs": [
    {
     "name": "stdin",
     "output_type": "stream",
     "text": [
      "Please enter a string: tyre\n"
     ]
    },
    {
     "name": "stdout",
     "output_type": "stream",
     "text": [
      "eryt\n"
     ]
    }
   ],
   "source": [
    "#write a program to reverse given string  in two ways\n",
    "\n",
    "a = str(input(\"Please enter a string:\"))\n",
    "reversed_string = a[::-1]\n",
    "print(reversed_string)\n",
    "    \n",
    "    "
   ]
  },
  {
   "cell_type": "code",
   "execution_count": 4,
   "id": "6adba658-164e-46cc-bfe7-4bd8e6d8459b",
   "metadata": {},
   "outputs": [
    {
     "name": "stdout",
     "output_type": "stream",
     "text": [
      "olleH\n"
     ]
    }
   ],
   "source": [
    "string = \"Hello\"\n",
    "reversed_string = \"\"\n",
    "for char in string:\n",
    "    reversed_string = char + reversed_string  \n",
    "print(reversed_string) \n"
   ]
  },
  {
   "cell_type": "code",
   "execution_count": 16,
   "id": "936237cb-81a2-4809-98c6-9f306b2c51c8",
   "metadata": {},
   "outputs": [
    {
     "name": "stdin",
     "output_type": "stream",
     "text": [
      "Please enter a string: python\n"
     ]
    },
    {
     "name": "stdout",
     "output_type": "stream",
     "text": [
      "1\n"
     ]
    }
   ],
   "source": [
    "#count number of vowels in a string \n",
    "\n",
    "a = str(input(\"Please enter a string:\"))\n",
    "\n",
    "b = ['a','e','i','o','u']\n",
    "\n",
    "c = 0\n",
    "for a in a :\n",
    "    if a in b :\n",
    "        c = c +1\n",
    "\n",
    "print(c)\n"
   ]
  },
  {
   "cell_type": "code",
   "execution_count": 25,
   "id": "5266ca5c-b8b9-4399-919f-90a5eaf0158d",
   "metadata": {},
   "outputs": [
    {
     "name": "stdin",
     "output_type": "stream",
     "text": [
      "Please enter a string: tyr\n"
     ]
    },
    {
     "name": "stdout",
     "output_type": "stream",
     "text": [
      "string is not a palindrome\n"
     ]
    }
   ],
   "source": [
    "#check if string is a palindrome\n",
    "\n",
    "a = str(input(\"Please enter a string:\"))\n",
    "a = a.replace(\" \", \"\").lower()\n",
    "b = a[::-1]\n",
    "\n",
    "\n",
    "if a == b:\n",
    "    print(\"string is a palindrome\")\n",
    "else:\n",
    "    print(\"string is not a palindrome\")"
   ]
  },
  {
   "cell_type": "code",
   "execution_count": 29,
   "id": "fce0a053-67f0-4dc1-8899-abe34cd63ae5",
   "metadata": {},
   "outputs": [
    {
     "name": "stdin",
     "output_type": "stream",
     "text": [
      "Please enter a string: Jamarta\n"
     ]
    },
    {
     "name": "stdout",
     "output_type": "stream",
     "text": [
      "jAMARTA\n"
     ]
    }
   ],
   "source": [
    "#convert uppercase to lowercase and vice versa\n",
    "\n",
    "a = str(input(\"Please enter a string:\"))\n",
    "\n",
    "b = a.swapcase()\n",
    "\n",
    "print(b)"
   ]
  },
  {
   "cell_type": "code",
   "execution_count": 32,
   "id": "d80bddec-03d1-449a-a350-ed4b050c9e16",
   "metadata": {},
   "outputs": [
    {
     "name": "stdin",
     "output_type": "stream",
     "text": [
      "Please enter a string: Yavatmal\n"
     ]
    },
    {
     "name": "stdout",
     "output_type": "stream",
     "text": [
      "8\n"
     ]
    }
   ],
   "source": [
    "#find length of string without using len() function\n",
    "\n",
    "a = str(input(\"Please enter a string:\"))\n",
    "c = 0 \n",
    "for i in a :\n",
    "    c = c +1\n",
    "\n",
    "print(c)"
   ]
  },
  {
   "cell_type": "code",
   "execution_count": 39,
   "id": "89bcc526-5d86-4063-a48f-bd0484da5204",
   "metadata": {},
   "outputs": [
    {
     "name": "stdin",
     "output_type": "stream",
     "text": [
      "Please enter intergers separated by space : 55 6 4\n"
     ]
    },
    {
     "name": "stdout",
     "output_type": "stream",
     "text": [
      "55\n"
     ]
    }
   ],
   "source": [
    "#find large element in list\n",
    "a = input(\"Please enter intergers separated by space :\")\n",
    "\n",
    "a_list = list(map(int,a.split()))\n",
    "\n",
    "b = max(a_list)\n",
    "\n",
    "print(b)"
   ]
  },
  {
   "cell_type": "code",
   "execution_count": 40,
   "id": "d4bc670e-b1dd-4083-a0b9-67bd0941cde9",
   "metadata": {},
   "outputs": [
    {
     "name": "stdin",
     "output_type": "stream",
     "text": [
      "Please enter intergers separated by space : 4 5 6 7 \n"
     ]
    },
    {
     "name": "stdout",
     "output_type": "stream",
     "text": [
      "4\n"
     ]
    }
   ],
   "source": [
    "#find smallest element in list \n",
    "\n",
    "a = input(\"Please enter intergers separated by space :\")\n",
    "\n",
    "a_list = list(map(int,a.split()))\n",
    "\n",
    "b = min(a_list)\n",
    "\n",
    "print(b)\n"
   ]
  },
  {
   "cell_type": "code",
   "execution_count": 42,
   "id": "852452cd-549b-4b2a-9157-039fef28acaf",
   "metadata": {},
   "outputs": [
    {
     "name": "stdin",
     "output_type": "stream",
     "text": [
      "Please enter intergers separated by space :  1 2 3 4 5\n"
     ]
    },
    {
     "name": "stdout",
     "output_type": "stream",
     "text": [
      "15\n"
     ]
    }
   ],
   "source": [
    "#find sum of elements in a list\n",
    "\n",
    "a = input(\"Please enter intergers separated by space :\")\n",
    "\n",
    "\n",
    "a_list = list(map(int,a.split()))\n",
    "\n",
    "sum_list = sum(a_list)\n",
    "\n",
    "print(sum_list)"
   ]
  },
  {
   "cell_type": "code",
   "execution_count": 43,
   "id": "dcecbc34-08fb-4b2e-9e8e-a0d17c13b5e5",
   "metadata": {},
   "outputs": [
    {
     "name": "stdin",
     "output_type": "stream",
     "text": [
      "Please enter intergers separated by space : 3 2 14 5\n"
     ]
    },
    {
     "name": "stdout",
     "output_type": "stream",
     "text": [
      "[2, 3, 5, 14]\n"
     ]
    }
   ],
   "source": [
    "#sort a list in a ascending order\n",
    "\n",
    "a = input(\"Please enter intergers separated by space :\")\n",
    "\n",
    "\n",
    "a_list = list(map(int,a.split()))\n",
    "\n",
    "b = sorted(a_list)\n",
    "\n",
    "print(b)\n"
   ]
  },
  {
   "cell_type": "code",
   "execution_count": 44,
   "id": "2045b851-3a54-4dc4-b432-e3da758c6246",
   "metadata": {},
   "outputs": [
    {
     "name": "stdin",
     "output_type": "stream",
     "text": [
      "Please enter intergers separated by space : 1 3 4 4 5 5 66 66 4 6 3 6\n"
     ]
    },
    {
     "name": "stdout",
     "output_type": "stream",
     "text": [
      "[1, 3, 4, 5, 66, 6]\n"
     ]
    }
   ],
   "source": [
    "# remove duplicates from a list\n",
    "\n",
    "a = input(\"Please enter intergers separated by space :\")\n",
    "\n",
    "\n",
    "a_list = list(map(int,a.split()))\n",
    "\n",
    "b = []\n",
    "\n",
    "for i in a_list :\n",
    "    if i not in b :\n",
    "        b.append(i)\n",
    "\n",
    "print(b)\n",
    "    "
   ]
  },
  {
   "cell_type": "code",
   "execution_count": 46,
   "id": "1b024f12-e6b4-451a-a434-186749fad6f2",
   "metadata": {},
   "outputs": [
    {
     "name": "stdin",
     "output_type": "stream",
     "text": [
      "Please enter intergers separated by space : 1 2 3 4 5 6 7 8 9\n"
     ]
    },
    {
     "name": "stdout",
     "output_type": "stream",
     "text": [
      "from given numbers largest number is 9 and minimun number is 1\n"
     ]
    }
   ],
   "source": [
    "#Find maximum and minimum number in a tuple\n",
    "\n",
    "a = input(\"Please enter intergers separated by space :\")\n",
    "\n",
    "\n",
    "a_tuple = tuple(map(int,a.split()))\n",
    "\n",
    "a_max = max(a_tuple)\n",
    "a_min = min(a_tuple)\n",
    "\n",
    "print(f\"from given numbers largest number is {a_max} and minimun number is {a_min}\")\n"
   ]
  },
  {
   "cell_type": "code",
   "execution_count": 47,
   "id": "294d1832-a866-4708-8a47-fc6286f47df7",
   "metadata": {},
   "outputs": [
    {
     "name": "stdin",
     "output_type": "stream",
     "text": [
      "Please enter intergers separated by space : 1 2 3 4 5 6 7 8 9\n"
     ]
    },
    {
     "name": "stdout",
     "output_type": "stream",
     "text": [
      "(1, 2, 3, 4, 5, 6, 7, 8, 9)\n",
      "[1, 2, 3, 4, 5, 6, 7, 8, 9]\n"
     ]
    }
   ],
   "source": [
    "#Convert a tuple to a list\n",
    "\n",
    "a = input(\"Please enter intergers separated by space :\")\n",
    "\n",
    "\n",
    "a_tuple = tuple(map(int,a.split()))\n",
    "print(a_tuple)\n",
    "a_list = list(a_tuple)\n",
    "print(a_list)"
   ]
  },
  {
   "cell_type": "code",
   "execution_count": 52,
   "id": "05544de4-50e8-4a33-84ee-ce233ec828e2",
   "metadata": {},
   "outputs": [
    {
     "name": "stdin",
     "output_type": "stream",
     "text": [
      "Please enter intergers separated by space : 1 1 2 3 4 4\n"
     ]
    },
    {
     "name": "stdout",
     "output_type": "stream",
     "text": [
      "{1: 2, 2: 1, 3: 1, 4: 2}\n"
     ]
    }
   ],
   "source": [
    "#count occurance of elements in tuple\n",
    "\n",
    "a = input(\"Please enter intergers separated by space :\")\n",
    "a_tuple = tuple(map(int,a.split()))\n",
    "my_dict = {}\n",
    "\n",
    "for i in a_tuple:\n",
    "    if i in my_dict :\n",
    "        my_dict[i] +=1\n",
    "    else:\n",
    "        my_dict[i]=1\n",
    "\n",
    "print(my_dict)\n",
    "\n"
   ]
  },
  {
   "cell_type": "code",
   "execution_count": 55,
   "id": "976d59be-8871-45c7-af59-6b1410ecdbe2",
   "metadata": {},
   "outputs": [
    {
     "name": "stdin",
     "output_type": "stream",
     "text": [
      "Please enter intergers separated by space : 77 4 32 1 3\n",
      "please enter interger of previous tuple you given 3\n"
     ]
    },
    {
     "name": "stdout",
     "output_type": "stream",
     "text": [
      "The index of 3 in the tuple is: 4\n"
     ]
    }
   ],
   "source": [
    "# find index of element in tuple :\n",
    "\n",
    "a = input(\"Please enter intergers separated by space :\")\n",
    "a_tuple = tuple(map(int,a.split()))\n",
    "\n",
    "b = int(input(\"please enter interger of previous tuple you given\"))\n",
    "index = a_tuple.index(b)\n",
    "\n",
    "print(f\"The index of {b} in the tuple is: {index}\")\n"
   ]
  },
  {
   "cell_type": "code",
   "execution_count": 68,
   "id": "fa61fd83-2622-41bc-bcf5-c1fefc6d04e8",
   "metadata": {},
   "outputs": [
    {
     "name": "stdin",
     "output_type": "stream",
     "text": [
      "Please enter intergers separated by space : 1 2 3 4 5 6 7 8\n"
     ]
    },
    {
     "name": "stdout",
     "output_type": "stream",
     "text": [
      "(1, 2, 3, 4, 5, 6, 7, 8)\n",
      "(8, 7, 6, 5, 4, 3, 2, 1)\n"
     ]
    }
   ],
   "source": [
    "#reverse a tuple\n",
    "\n",
    "a = input(\"Please enter intergers separated by space :\")\n",
    "a_tuple = tuple(map(int,a.split()))\n",
    "\n",
    "print(a_tuple)\n",
    "a_list = list(a_tuple)\n",
    "reversed_list=a_list[::-1]\n",
    "a_tuple=tuple(reversed_list)\n",
    "print(a_tuple)"
   ]
  },
  {
   "cell_type": "code",
   "execution_count": 70,
   "id": "38c7f839-6d89-4385-bca3-ba53dc1a4177",
   "metadata": {},
   "outputs": [
    {
     "name": "stdout",
     "output_type": "stream",
     "text": [
      "<class 'set'>\n"
     ]
    }
   ],
   "source": [
    "#create empty set \n",
    "\n",
    "a_empty_set = set()\n",
    "print(type(a_empty_set))"
   ]
  },
  {
   "cell_type": "code",
   "execution_count": 71,
   "id": "5c0b846d-22fb-4eeb-9682-aec16b40e8b5",
   "metadata": {},
   "outputs": [
    {
     "name": "stdin",
     "output_type": "stream",
     "text": [
      "Enter elements of the set separated by spaces:  1 2 3 4\n",
      "Enter elements of the set separated by spaces:  2 3 4 5\n"
     ]
    },
    {
     "name": "stdout",
     "output_type": "stream",
     "text": [
      "{'4', '3', '5', '2', '1'}\n"
     ]
    }
   ],
   "source": [
    "#perform union of two sets\n",
    "\n",
    "a = input(\"Enter elements of the set separated by spaces: \")\n",
    "b = input(\"Enter elements of the set separated by spaces: \")\n",
    "input_a = set(a.split())\n",
    "input_b = set(b.split())\n",
    "u_set = input_a.union(input_b)\n",
    "print(u_set)"
   ]
  },
  {
   "cell_type": "code",
   "execution_count": 72,
   "id": "5612a208-ebbd-4a4a-acc5-f81fb9183511",
   "metadata": {},
   "outputs": [
    {
     "name": "stdin",
     "output_type": "stream",
     "text": [
      "Enter elements of the set separated by spaces:  1 2 3 4 5\n",
      "Enter elements of the set separated by spaces:  3 4 5 6 7\n"
     ]
    },
    {
     "name": "stdout",
     "output_type": "stream",
     "text": [
      "{'4', '5', '3'}\n"
     ]
    }
   ],
   "source": [
    "#perform intersection of two sets\n",
    "\n",
    "a = input(\"Enter elements of the set separated by spaces: \")\n",
    "b = input(\"Enter elements of the set separated by spaces: \")\n",
    "input_a = set(a.split())\n",
    "input_b = set(b.split())\n",
    "i_set = input_a.intersection(input_b)\n",
    "print(i_set)\n"
   ]
  },
  {
   "cell_type": "code",
   "execution_count": 74,
   "id": "dbf45728-0744-46fb-9c02-e56c7b006bf0",
   "metadata": {},
   "outputs": [
    {
     "name": "stdin",
     "output_type": "stream",
     "text": [
      "Enter elements of the set separated by spaces:  1 2 3 4 5\n",
      "Enter elements of the set separated by spaces:  2 3\n"
     ]
    },
    {
     "name": "stdout",
     "output_type": "stream",
     "text": [
      "{'4', '1', '5'}\n"
     ]
    }
   ],
   "source": [
    "#perform difference of two sets\n",
    "\n",
    "a = input(\"Enter elements of the set separated by spaces: \")\n",
    "b = input(\"Enter elements of the set separated by spaces: \")\n",
    "input_a = set(a.split())\n",
    "input_b = set(b.split())\n",
    "d_set = input_a.difference(input_b)\n",
    "print(d_set)\n"
   ]
  },
  {
   "cell_type": "code",
   "execution_count": 81,
   "id": "ae62c352-b4f9-4c97-97e5-c866cbb38cb1",
   "metadata": {},
   "outputs": [
    {
     "name": "stdin",
     "output_type": "stream",
     "text": [
      "Enter elements of the set separated by spaces:  2 4\n",
      "Enter elements of the set separated by spaces:  2 3 4 5\n"
     ]
    },
    {
     "name": "stdout",
     "output_type": "stream",
     "text": [
      "True\n"
     ]
    }
   ],
   "source": [
    "#check if a set is subset of another\n",
    "\n",
    "a = input(\"Enter elements of the set separated by spaces: \")\n",
    "b = input(\"Enter elements of the set separated by spaces: \")\n",
    "input_a = set(map(int,a.split()))\n",
    "input_b = set(map(int,b.split()))\n",
    "s_set = input_a.issubset(input_b)\n",
    "print(s_set)\n"
   ]
  },
  {
   "cell_type": "code",
   "execution_count": 80,
   "id": "1de3b9a4-3a8e-45cc-8f06-573d6958a8a4",
   "metadata": {},
   "outputs": [
    {
     "name": "stdin",
     "output_type": "stream",
     "text": [
      "Enter elements of the set separated by spaces:  1 2 3 4 5\n",
      "enter a number you want to remove from what you have entered earlier 5\n"
     ]
    },
    {
     "name": "stdout",
     "output_type": "stream",
     "text": [
      "{1, 2, 3, 4}\n"
     ]
    }
   ],
   "source": [
    "#remove element from set\n",
    "\n",
    "a = input(\"Enter elements of the set separated by spaces: \")\n",
    "input_a = set(map(int,a.split()))\n",
    "b = int(input(\"enter a number you want to remove from what you have entered earlier\"))\n",
    "input_a.remove(b)\n",
    "print(input_a)"
   ]
  },
  {
   "cell_type": "code",
   "execution_count": 85,
   "id": "070f9469-0572-4432-9c7c-7f4d279d4b52",
   "metadata": {},
   "outputs": [
    {
     "name": "stdin",
     "output_type": "stream",
     "text": [
      "enter numbers of key-value pairs 5\n",
      "enter a key: 1\n",
      "enter a value: Bat\n",
      "enter a key: 2\n",
      "enter a value: Cat\n",
      "enter a key: 3\n",
      "enter a value: Dog\n",
      "enter a key: 4\n",
      "enter a value: Cow\n",
      "enter a key: 5\n",
      "enter a value: Monkey\n"
     ]
    },
    {
     "name": "stdout",
     "output_type": "stream",
     "text": [
      "{'1': 'Bat', '2': 'Cat', '3': 'Dog', '4': 'Cow', '5': 'Monkey'}\n"
     ]
    }
   ],
   "source": [
    "#create a dictonaries and print keys and values\n",
    "\n",
    "dict = {}\n",
    "\n",
    "n = int(input(\"enter numbers of key-value pairs\"))\n",
    "\n",
    "for i in range(n) :\n",
    "    key = input(\"enter a key:\")\n",
    "    value = input(\"enter a value:\")\n",
    "    dict[key]= value\n",
    "    \n",
    "\n",
    "print(dict)"
   ]
  },
  {
   "cell_type": "code",
   "execution_count": 86,
   "id": "739c328a-87ad-4a3f-8ab8-f138a71e74e3",
   "metadata": {},
   "outputs": [
    {
     "name": "stdout",
     "output_type": "stream",
     "text": [
      "The sum of the values is: 64\n"
     ]
    }
   ],
   "source": [
    "#find sum of dictonaries values\n",
    "\n",
    "my_dict = {'a': 10, 'b': 24, 'c': 30}\n",
    "\n",
    "total_sum = sum(my_dict.values())\n",
    "\n",
    "print(f\"The sum of the values is: {total_sum}\")\n"
   ]
  },
  {
   "cell_type": "code",
   "execution_count": 87,
   "id": "3877bd4a-bc66-46f3-9c60-22bd6a3c1b6e",
   "metadata": {},
   "outputs": [
    {
     "name": "stdout",
     "output_type": "stream",
     "text": [
      "{'a': 5, 'b': 3, 'c': 2}\n"
     ]
    }
   ],
   "source": [
    "# merge two dictonaries\n",
    "a = {'a': 5, 'b': 7}\n",
    "b = {'b': 3, 'c': 2}\n",
    "\n",
    "a.update(b)\n",
    "print(a)\n"
   ]
  },
  {
   "cell_type": "code",
   "execution_count": 103,
   "id": "6f63b520-bf29-4037-adf8-ebc027141a50",
   "metadata": {},
   "outputs": [
    {
     "name": "stdout",
     "output_type": "stream",
     "text": [
      "{'b': 2, 'a': 10, 'c': 30}\n"
     ]
    }
   ],
   "source": [
    "#sort dictionaries by its values\n",
    "\n",
    "dict_t = {'a': 10, 'b': 2, 'c': 30}\n",
    "sorted_dict = {key:val for key, val in sorted(dict_t.items(), key=lambda item: item[1])}\n",
    "print(sorted_dict)\n",
    "\n"
   ]
  },
  {
   "cell_type": "code",
   "execution_count": 107,
   "id": "fbef7745-73fa-4efb-a22f-a8769b9f2a0a",
   "metadata": {},
   "outputs": [
    {
     "name": "stdout",
     "output_type": "stream",
     "text": [
      "{10: 2, 2: 1, 30: 1}\n"
     ]
    }
   ],
   "source": [
    "#count occurances of elements in dictonaries\n",
    "\n",
    "my_dict={}\n",
    "dict_t = {'a': 10, 'b': 2, 'c': 30, 'd':10}\n",
    "for value in dict_t.values() :\n",
    "    if value in my_dict :\n",
    "        my_dict[value] +=1\n",
    "    else:\n",
    "        my_dict[value]=1\n",
    "\n",
    "print(my_dict)\n"
   ]
  },
  {
   "cell_type": "code",
   "execution_count": 4,
   "id": "63b8998b-099e-4a69-b3be-b2a82873acee",
   "metadata": {},
   "outputs": [
    {
     "name": "stdin",
     "output_type": "stream",
     "text": [
      "Please enter any integer : 17\n"
     ]
    },
    {
     "name": "stdout",
     "output_type": "stream",
     "text": [
      "17 is a prime number.\n"
     ]
    }
   ],
   "source": [
    "#check if number is prime or not\n",
    "\n",
    "import math\n",
    "\n",
    "def is_prime(n):\n",
    "    if n <= 1:\n",
    "        return False\n",
    "    for i in range(2, int(math.sqrt(n)) + 1):\n",
    "        if n % i == 0:\n",
    "            return False\n",
    "    return True\n",
    "\n",
    "\n",
    "number = int(input(\"Please enter any integer :\"))\n",
    "if is_prime(number):\n",
    "    print(f\"{number} is a prime number.\")\n",
    "else:\n",
    "    print(f\"{number} is not a prime number.\")\n"
   ]
  },
  {
   "cell_type": "code",
   "execution_count": 73,
   "id": "64b7794f-ae21-452d-be80-1b35af1a0577",
   "metadata": {},
   "outputs": [
    {
     "name": "stdin",
     "output_type": "stream",
     "text": [
      "Please enter a integer 5647\n"
     ]
    },
    {
     "name": "stdout",
     "output_type": "stream",
     "text": [
      "5647\n",
      "22\n"
     ]
    }
   ],
   "source": [
    "# find sum of digits of a number\n",
    "\n",
    "a=input(\"Please enter a integer\")\n",
    "print(a)\n",
    "sum = 0\n",
    "for i in str(a):\n",
    "    sum =  sum + int(i)\n",
    "\n",
    "print(sum)\n"
   ]
  },
  {
   "cell_type": "code",
   "execution_count": 20,
   "id": "4acfea5c-c682-465d-8be4-f35919fe1d34",
   "metadata": {},
   "outputs": [
    {
     "name": "stdin",
     "output_type": "stream",
     "text": [
      "Please enter first number: 44\n",
      "Please enter second number: 5\n"
     ]
    },
    {
     "name": "stdout",
     "output_type": "stream",
     "text": [
      "LCM of 44 and 5 is 220\n"
     ]
    }
   ],
   "source": [
    "#find LCM of two numbers \n",
    "\n",
    "import math\n",
    "\n",
    "def lcm(a, b):\n",
    "    return abs(a * b) // math.gcd(a, b)\n",
    "\n",
    "# Example usage\n",
    "num1 = int(input(\"Please enter first number:\"))\n",
    "num2 = int(input(\"Please enter second number:\"))\n",
    "print(f\"LCM of {num1} and {num2} is {lcm(num1, num2)}\")\n"
   ]
  },
  {
   "cell_type": "code",
   "execution_count": 21,
   "id": "5ed9065b-3e79-4985-9619-871d6bb941d4",
   "metadata": {},
   "outputs": [
    {
     "name": "stdin",
     "output_type": "stream",
     "text": [
      "Please enter first number: 456\n",
      "Please enter second number: 45\n"
     ]
    },
    {
     "name": "stdout",
     "output_type": "stream",
     "text": [
      "GCD of 456 and 45 is 3\n"
     ]
    }
   ],
   "source": [
    "#find GCD of two numbers\n",
    "\n",
    "import math\n",
    "\n",
    "num1 = int(input(\"Please enter first number:\"))\n",
    "num2 = int(input(\"Please enter second number:\"))\n",
    "print(f\"GCD of {num1} and {num2} is {math.gcd(num1, num2)}\")\n"
   ]
  },
  {
   "cell_type": "code",
   "execution_count": 24,
   "id": "ebda488f-5a25-4e98-ac66-7a798e03d7ba",
   "metadata": {},
   "outputs": [
    {
     "name": "stdin",
     "output_type": "stream",
     "text": [
      "Please enter first number: 45\n",
      "Please enter second number: 45\n"
     ]
    },
    {
     "name": "stdout",
     "output_type": "stream",
     "text": [
      "sum of 45 and 45 is 90\n"
     ]
    }
   ],
   "source": [
    "#Define a function to find sum of two numbers :\n",
    "\n",
    "def sum_a(a,b):\n",
    "    return a+b\n",
    "\n",
    "num1 = int(input(\"Please enter first number:\"))\n",
    "num2 = int(input(\"Please enter second number:\"))\n",
    "\n",
    "print(f\"sum of {num1} and {num2} is {sum_a(num1, num2)}\")"
   ]
  },
  {
   "cell_type": "code",
   "execution_count": 25,
   "id": "5315995d-811d-40b5-8e9a-bcd77ac73708",
   "metadata": {},
   "outputs": [
    {
     "name": "stdin",
     "output_type": "stream",
     "text": [
      "Please enter a number 5\n"
     ]
    },
    {
     "name": "stdout",
     "output_type": "stream",
     "text": [
      "The square of entered number 5 is 25\n"
     ]
    }
   ],
   "source": [
    "#define a function to return square of a number\n",
    "\n",
    "def sqr_a(a):\n",
    "    return a*a\n",
    "\n",
    "num1 =int(input(\"Please enter a number\"))\n",
    "\n",
    "print(f\"The square of entered number {num1} is {sqr_a(num1)}\")"
   ]
  },
  {
   "cell_type": "code",
   "execution_count": 26,
   "id": "51aac934-f574-4bf5-bedc-d9e5811a90eb",
   "metadata": {},
   "outputs": [
    {
     "name": "stdout",
     "output_type": "stream",
     "text": [
      "Hello, Guest!\n",
      "Hello, Shyam!\n"
     ]
    }
   ],
   "source": [
    "#define a function with default arguments\n",
    "\n",
    "def greet(name=\"Guest\"):\n",
    "    print(f\"Hello, {name}!\")\n",
    "\n",
    "\n",
    "greet() \n",
    "\n",
    "\n",
    "greet(\"Shyam\")  \n"
   ]
  },
  {
   "cell_type": "code",
   "execution_count": 27,
   "id": "be88edf3-2bb3-4d1b-bc22-314149b3d1c6",
   "metadata": {},
   "outputs": [
    {
     "name": "stdout",
     "output_type": "stream",
     "text": [
      "6\n",
      "50\n"
     ]
    }
   ],
   "source": [
    "# define a function with varialbe length arguments\n",
    "\n",
    "def add_numbers(*args):\n",
    "    total = 0\n",
    "    for num in args:\n",
    "        total += num\n",
    "    return total\n",
    "\n",
    "\n",
    "print(add_numbers(1, 2, 3))  \n",
    "print(add_numbers(5, 10, 15, 20))  \n"
   ]
  },
  {
   "cell_type": "code",
   "execution_count": 28,
   "id": "22c3289f-04a1-4741-a0f8-e4a82ecb8d8b",
   "metadata": {},
   "outputs": [
    {
     "name": "stdout",
     "output_type": "stream",
     "text": [
      "Sum: 9\n",
      "Product: 20\n"
     ]
    }
   ],
   "source": [
    "#define a function that return multiple values\n",
    "\n",
    "def calculate(a, b):\n",
    "    sum_value = a + b\n",
    "    product = a * b\n",
    "    return sum_value, product\n",
    "\n",
    "\n",
    "result_sum, result_product = calculate(4, 5)\n",
    "\n",
    "print(f\"Sum: {result_sum}\")        \n",
    "print(f\"Product: {result_product}\") \n",
    "\n",
    "\n"
   ]
  },
  {
   "cell_type": "code",
   "execution_count": 33,
   "id": "26b155a2-98a3-4c82-b2cc-2ca6056625f8",
   "metadata": {},
   "outputs": [
    {
     "name": "stdin",
     "output_type": "stream",
     "text": [
      "Please enter first number: 55\n",
      "Please enter second number: 3\n"
     ]
    },
    {
     "name": "stdout",
     "output_type": "stream",
     "text": [
      "58\n"
     ]
    }
   ],
   "source": [
    "#use lambda function to add two numbers \n",
    "\n",
    "addition = lambda x,y: x+y\n",
    "\n",
    "num1 = int(input(\"Please enter first number:\"))\n",
    "num2 = int(input(\"Please enter second number:\"))\n",
    "\n",
    "\n",
    "print(addition(num1,num2))"
   ]
  },
  {
   "cell_type": "code",
   "execution_count": 32,
   "id": "6ebebcad-679e-4e22-b08c-bdfbe544b6fa",
   "metadata": {},
   "outputs": [
    {
     "name": "stdin",
     "output_type": "stream",
     "text": [
      "Please enter first number: 4\n",
      "Please enter second number: 66\n"
     ]
    },
    {
     "name": "stdout",
     "output_type": "stream",
     "text": [
      "66 is max\n"
     ]
    }
   ],
   "source": [
    "# use lambda function to find maximum of two numbers\n",
    "\n",
    "max = lambda x, y: print(f\"{x} is max\") if x > y else print(f\"{y} is max\")\n",
    "\n",
    "num1 = int(input(\"Please enter first number:\"))\n",
    "num2 = int(input(\"Please enter second number:\"))\n",
    "\n",
    "max(num1, num2)\n",
    "\n"
   ]
  },
  {
   "cell_type": "code",
   "execution_count": 35,
   "id": "3afe8c69-c5bc-472a-b839-6f3fe34ae3b0",
   "metadata": {},
   "outputs": [
    {
     "name": "stdin",
     "output_type": "stream",
     "text": [
      "Please enter first number: 6\n"
     ]
    },
    {
     "data": {
      "text/plain": [
       "36"
      ]
     },
     "execution_count": 35,
     "metadata": {},
     "output_type": "execute_result"
    }
   ],
   "source": [
    "#use lambda function to sqaure a number\n",
    "\n",
    "sqr = lambda x: x*x\n",
    "\n",
    "num1 = int(input(\"Please enter first number:\"))\n",
    "\n",
    "sqr(num1)\n"
   ]
  },
  {
   "cell_type": "code",
   "execution_count": 74,
   "id": "d2208fa6-3b10-4c1b-bc88-fdea5b3ea4a8",
   "metadata": {},
   "outputs": [
    {
     "name": "stdin",
     "output_type": "stream",
     "text": [
      "Please enter a number: 5\n"
     ]
    },
    {
     "name": "stdout",
     "output_type": "stream",
     "text": [
      "[7]\n"
     ]
    }
   ],
   "source": [
    "#use lambda function inside map()\n",
    "\n",
    "a = input(\"Please enter a number:\")\n",
    "\n",
    "a_q = list(map(int, a))\n",
    "\n",
    "c= list(map(lambda x: x + 2, a_q))\n",
    "print(c)"
   ]
  },
  {
   "cell_type": "code",
   "execution_count": 55,
   "id": "b889bc34-fc7f-4b82-95c6-6775b246b0d5",
   "metadata": {},
   "outputs": [
    {
     "name": "stdout",
     "output_type": "stream",
     "text": [
      "[2, 4, 6, 8]\n"
     ]
    }
   ],
   "source": [
    "#use lambda function inside filter()\n",
    "\n",
    "numbers = [1, 2, 3, 4, 5, 6, 7, 8, 9]\n",
    "\n",
    "even_numbers = list(filter(lambda x: x % 2 == 0, numbers))\n",
    "print(even_numbers)  \n",
    "\n"
   ]
  },
  {
   "cell_type": "code",
   "execution_count": 3,
   "id": "e943b86e-591a-4aed-8d90-8e8a3544230a",
   "metadata": {},
   "outputs": [
    {
     "name": "stdin",
     "output_type": "stream",
     "text": [
      "Enter numbers separated by spaces:  1 2 3 4 5\n"
     ]
    },
    {
     "name": "stdout",
     "output_type": "stream",
     "text": [
      "[1, 2, 3, 4, 5]\n",
      "[1, 4, 9, 16, 25]\n"
     ]
    }
   ],
   "source": [
    "#Generate list of squares using list comprehension\n",
    "\n",
    "numbers = list(map(int, input(\"Enter numbers separated by spaces: \").split()))\n",
    "\n",
    "print(numbers)\n",
    "\n",
    "squares = [x**2 for x in numbers]\n",
    "\n",
    "print(squares)"
   ]
  },
  {
   "cell_type": "code",
   "execution_count": 4,
   "id": "fc4ce743-09af-4211-aade-b7a6b404e624",
   "metadata": {},
   "outputs": [
    {
     "name": "stdin",
     "output_type": "stream",
     "text": [
      "Enter numbers separated by spaces:  3 4 5 6 7 8\n"
     ]
    },
    {
     "name": "stdout",
     "output_type": "stream",
     "text": [
      "[3, 4, 5, 6, 7, 8]\n",
      "[4, 6, 8]\n"
     ]
    }
   ],
   "source": [
    "#Generate list of even numbers using list comprehension\n",
    "\n",
    "numbers = list(map(int, input(\"Enter numbers separated by spaces: \").split()))\n",
    "\n",
    "print(numbers)\n",
    "\n",
    "y = [x for x in numbers if x%2 == 0 ]\n",
    "print(y)"
   ]
  },
  {
   "cell_type": "code",
   "execution_count": 23,
   "id": "1564879a-82f1-49d7-b429-7f42ce651780",
   "metadata": {},
   "outputs": [
    {
     "name": "stdin",
     "output_type": "stream",
     "text": [
      "Enter numbers separated by spaces:  1 3 4 5 6\n"
     ]
    },
    {
     "name": "stdout",
     "output_type": "stream",
     "text": [
      "[1, 3, 4, 5, 6]\n",
      "[6, 5, 4, 3, 1]\n"
     ]
    }
   ],
   "source": [
    "#Reverse the list using list comprehension\n",
    "\n",
    "numbers = list(map(int, input(\"Enter numbers separated by spaces: \").split()))\n",
    "\n",
    "print(numbers)\n",
    "\n",
    "y = [numbers[i] for i in range(len(numbers)-1, -1, -1)]\n",
    "print(y)\n"
   ]
  },
  {
   "cell_type": "code",
   "execution_count": 28,
   "id": "2e68ac9c-6b5b-4dad-b461-efcb4f6b3ef9",
   "metadata": {},
   "outputs": [
    {
     "name": "stdout",
     "output_type": "stream",
     "text": [
      "[[1, 2, 3], [4, 5, 6], [7, 8, 9]]\n",
      "[1, 2, 3, 4, 5, 6, 7, 8, 9]\n"
     ]
    }
   ],
   "source": [
    "#Flaten a nested list using list comprehension\n",
    "\n",
    "nested_list = [[1,2,3],[4,5,6],[7,8,9]]\n",
    "\n",
    "print(nested_list)\n",
    "\n",
    "flattened_list = [item for inner_list in nested_list for item in inner_list]\n",
    "\n",
    "print(flattened_list)"
   ]
  },
  {
   "cell_type": "code",
   "execution_count": 30,
   "id": "6f22195e-debe-4aee-95dd-6c13c73b6d22",
   "metadata": {},
   "outputs": [
    {
     "name": "stdin",
     "output_type": "stream",
     "text": [
      "Enter numbers separated by spaces:  1 2 3 4 5\n",
      "Enter numbers separated by spaces:  4 6 7 8 9\n"
     ]
    },
    {
     "name": "stdout",
     "output_type": "stream",
     "text": [
      "[1, 2, 3, 4, 5]\n",
      "[4, 6, 7, 8, 9]\n",
      "[4]\n"
     ]
    }
   ],
   "source": [
    "#find common elements in two list using list comprehension\n",
    "\n",
    "#a = [1,2,3,4,5]\n",
    "#b = [2,3,6,7,8]\n",
    "\n",
    "numbers = list(map(int, input(\"Enter numbers separated by spaces: \").split()))\n",
    "\n",
    "\n",
    "num= list(map(int, input(\"Enter numbers separated by spaces: \").split()))\n",
    "\n",
    "print(numbers)\n",
    "print(num)\n",
    "\n",
    "c= [item for item in numbers if item in num]\n",
    "print(c)\n",
    "\n"
   ]
  },
  {
   "cell_type": "code",
   "execution_count": 36,
   "id": "0ccd1860-f4dc-4b20-adaa-2a0517523b5d",
   "metadata": {},
   "outputs": [
    {
     "name": "stdin",
     "output_type": "stream",
     "text": [
      "Please enter a first number : 2\n",
      "Please enter a second number : 3\n"
     ]
    },
    {
     "name": "stdout",
     "output_type": "stream",
     "text": [
      "Before swap\n",
      "2\n",
      "3\n",
      "After swap\n",
      "3\n",
      "2\n"
     ]
    }
   ],
   "source": [
    "# swap two numbers without using third variable\n",
    "\n",
    "a= int(input(\"Please enter a first number :\"))\n",
    "b= int(input(\"Please enter a second number :\"))\n",
    "\n",
    "print(\"Before swap\")\n",
    "print(a)\n",
    "print(b)\n",
    "\n",
    "a = a + b\n",
    "b = a - b\n",
    "a = a - b\n",
    "\n",
    "print(\"After swap\")\n",
    "print(a)\n",
    "print(b)\n"
   ]
  },
  {
   "cell_type": "code",
   "execution_count": 42,
   "id": "e8e2a18d-05fe-4267-aa6e-18c62c69ea6c",
   "metadata": {},
   "outputs": [
    {
     "name": "stdin",
     "output_type": "stream",
     "text": [
      "Enter a sentence: Hold on hold on I'm on my way\n"
     ]
    },
    {
     "name": "stdout",
     "output_type": "stream",
     "text": [
      "{'hold': 2, 'on': 3, \"i'm\": 1, 'my': 1, 'way': 1}\n"
     ]
    }
   ],
   "source": [
    "# count occurances of each word in a sentence\n",
    "\n",
    "sentence = input(\"Enter a sentence:\").lower().split()\n",
    "dict = {}\n",
    "for i in sentence :\n",
    "    if i in dict:\n",
    "        dict[i] = dict[i]+1\n",
    "    else:\n",
    "        dict[i] =1\n",
    "\n",
    "print(dict)\n",
    "    "
   ]
  },
  {
   "cell_type": "code",
   "execution_count": 63,
   "id": "4ed3e776-7916-4d6e-9c19-c0d143729781",
   "metadata": {},
   "outputs": [
    {
     "name": "stdin",
     "output_type": "stream",
     "text": [
      "Enter numbers separated by spaces:  1 33 4 22\n"
     ]
    },
    {
     "name": "stdout",
     "output_type": "stream",
     "text": [
      "[1, 33, 4, 22]\n",
      "[1, 4, 22, 33]\n",
      "number of elements in list : 4\n",
      "Second largest number in list 22\n"
     ]
    }
   ],
   "source": [
    "#find second largest number in list \n",
    "\n",
    "numbers = list(map(int, input(\"Enter numbers separated by spaces: \").split()))\n",
    "\n",
    "print(numbers)\n",
    "\n",
    "sort_numbers= sorted(numbers)\n",
    "print(sort_numbers)\n",
    "\n",
    "print(f\"number of elements in list :\",len(sort_numbers))\n",
    "\n",
    "for i in range(len(sort_numbers)-2, len(sort_numbers)-1):\n",
    "    print(f\"Second largest number in list\",sort_numbers[i])\n"
   ]
  },
  {
   "cell_type": "code",
   "execution_count": 65,
   "id": "7ae5d67b-ab70-4a5b-88dd-7a56e107cce4",
   "metadata": {},
   "outputs": [
    {
     "name": "stdin",
     "output_type": "stream",
     "text": [
      "Enter first string: silent\n",
      "Enter sencond string: listen\n"
     ]
    },
    {
     "name": "stdout",
     "output_type": "stream",
     "text": [
      "True\n"
     ]
    }
   ],
   "source": [
    "#check if two string as anagrams\n",
    "\n",
    "def are_anagrams(str1, str2):\n",
    "    \n",
    "    str1 = str1.replace(\" \", \"\").lower()\n",
    "    str2 = str2.replace(\" \", \"\").lower()\n",
    "    \n",
    "    \n",
    "    if len(str1) != len(str2):\n",
    "        return False\n",
    "    \n",
    "    \n",
    "    return sorted(str1) == sorted(str2)\n",
    "\n",
    "\n",
    "str1 =  input(\"Enter first string:\")\n",
    "str2 =  input(\"Enter sencond string:\")\n",
    "print(are_anagrams(str1, str2))  \n",
    "\n",
    "\n",
    "    \n",
    "    \n"
   ]
  },
  {
   "cell_type": "code",
   "execution_count": 72,
   "id": "788a3266-e5c7-4068-b772-5f42412235ae",
   "metadata": {},
   "outputs": [
    {
     "name": "stdin",
     "output_type": "stream",
     "text": [
      "Please enter a number for pascal's triangle: 5\n"
     ]
    },
    {
     "name": "stdout",
     "output_type": "stream",
     "text": [
      "    1     \n",
      "   1 1    \n",
      "  1 2 1   \n",
      " 1 3 3 1  \n",
      "1 4 6 4 1 \n"
     ]
    }
   ],
   "source": [
    "#print pascal's triangle\n",
    "\n",
    "def print_pascals_triangle(n):\n",
    "    # Initialize the first row of Pascal's Triangle\n",
    "    triangle = []\n",
    "    \n",
    "    for i in range(n):\n",
    "        # Start with a row of 1's\n",
    "        row = [1] * (i + 1)\n",
    "        \n",
    "        # Calculate the interior values of the row\n",
    "        for j in range(1, i):\n",
    "            row[j] = triangle[i-1][j-1] + triangle[i-1][j]\n",
    "        \n",
    "        # Append the row to the triangle\n",
    "        triangle.append(row)\n",
    "    \n",
    "    # Printing Pascal's Triangle\n",
    "    for row in triangle:\n",
    "        print(\" \".join(map(str, row)).center(n * 2))\n",
    "\n",
    "# Example usage:\n",
    "n =int(input(\"Please enter a number for pascal's triangle:\"))\n",
    "print_pascals_triangle(n)\n",
    "\n"
   ]
  }
 ],
 "metadata": {
  "kernelspec": {
   "display_name": "Python 3 (ipykernel)",
   "language": "python",
   "name": "python3"
  },
  "language_info": {
   "codemirror_mode": {
    "name": "ipython",
    "version": 3
   },
   "file_extension": ".py",
   "mimetype": "text/x-python",
   "name": "python",
   "nbconvert_exporter": "python",
   "pygments_lexer": "ipython3",
   "version": "3.11.7"
  }
 },
 "nbformat": 4,
 "nbformat_minor": 5
}
