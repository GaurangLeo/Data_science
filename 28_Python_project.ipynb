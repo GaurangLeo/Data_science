{
 "cells": [
  {
   "cell_type": "code",
   "execution_count": 35,
   "id": "5381c231-585a-4b4b-8df7-7c3a237d8828",
   "metadata": {},
   "outputs": [
    {
     "name": "stdout",
     "output_type": "stream",
     "text": [
      "Hello guest!\n",
      "Here is our menu\n",
      "All values in rupees\n",
      "{'Samosa': 20, 'Wada Pav': 20, 'Masala Dosa': 60, 'Tea': 12, 'Pohe': 30, 'Upma': 30}\n"
     ]
    },
    {
     "name": "stdin",
     "output_type": "stream",
     "text": [
      "Please enter item you want to take separated by space Tea Pohe\n"
     ]
    },
    {
     "name": "stdout",
     "output_type": "stream",
     "text": [
      "Your total amount for is: Rs 46.2\n"
     ]
    }
   ],
   "source": [
    "'''Restaurant Billing System:\n",
    " Write a Python program to calculate the total bill for a\n",
    " customer. The program should ask for the cost of\n",
    " individual items, apply a 10% service charge, and\n",
    " calculate the total'''\n",
    "\n",
    "print(\"Hello guest!\")\n",
    "print(\"Here is our menu\\nAll values in rupees\")\n",
    "Menu = {\"Samosa\" : 20, \"Wada Pav\" : 20 , \"Masala Dosa\" : 60,\"Tea\" : 12 , \"Pohe\" : 30 , \"Upma\" : 30}\n",
    "\n",
    "print(Menu)\n",
    "\n",
    "\n",
    "a = input(\"Please enter item you want to take separated by space\")\n",
    "a_list = list(map(str,a.split()))\n",
    "#print(a_list)\n",
    "\n",
    "Total_item_price = 0 \n",
    "Final_price = 0 \n",
    "\n",
    "for i in a_list:\n",
    "    if i in Menu:\n",
    "        item_price = Menu[i]\n",
    "        Total_item_price = item_price + 0.10 * item_price\n",
    "        Final_price = Total_item_price + Final_price\n",
    "        \n",
    "print(f\"Your total amount for is: Rs {Final_price}\")\n",
    "\n"
   ]
  },
  {
   "cell_type": "code",
   "execution_count": 1,
   "id": "9df768b5-73c2-40fb-8439-6d6a8d488ce6",
   "metadata": {},
   "outputs": [
    {
     "name": "stdout",
     "output_type": "stream",
     "text": [
      "\n",
      "ATM Menu:\n",
      "1. Check Balance\n",
      "2. Deposit Money\n",
      "3. Withdraw Money\n",
      "4. Exit\n"
     ]
    },
    {
     "name": "stdin",
     "output_type": "stream",
     "text": [
      "Please choose an option (1/2/3/4):  1\n"
     ]
    },
    {
     "name": "stdout",
     "output_type": "stream",
     "text": [
      "Your current balance is: Rs 1000\n",
      "\n",
      "ATM Menu:\n",
      "1. Check Balance\n",
      "2. Deposit Money\n",
      "3. Withdraw Money\n",
      "4. Exit\n"
     ]
    },
    {
     "name": "stdin",
     "output_type": "stream",
     "text": [
      "Please choose an option (1/2/3/4):  2\n",
      "Enter the amount to deposit: Rs  550\n"
     ]
    },
    {
     "name": "stdout",
     "output_type": "stream",
     "text": [
      "Rs 550.0 has been deposited. Your new balance is: Rs 1550.0\n",
      "\n",
      "ATM Menu:\n",
      "1. Check Balance\n",
      "2. Deposit Money\n",
      "3. Withdraw Money\n",
      "4. Exit\n"
     ]
    },
    {
     "name": "stdin",
     "output_type": "stream",
     "text": [
      "Please choose an option (1/2/3/4):  3\n",
      "Enter the amount to withdraw: Rs  50\n"
     ]
    },
    {
     "name": "stdout",
     "output_type": "stream",
     "text": [
      "Rs 50.0 has been withdrawn. Your new balance is: Rs 1500.0\n",
      "\n",
      "ATM Menu:\n",
      "1. Check Balance\n",
      "2. Deposit Money\n",
      "3. Withdraw Money\n",
      "4. Exit\n"
     ]
    },
    {
     "name": "stdin",
     "output_type": "stream",
     "text": [
      "Please choose an option (1/2/3/4):  4\n"
     ]
    },
    {
     "name": "stdout",
     "output_type": "stream",
     "text": [
      "Thank you for using the ATM. Goodbye!\n"
     ]
    }
   ],
   "source": [
    " '''Create a Python program that simulates an ATM machine with\n",
    " basic functionalities. The program should allow the user to\n",
    " check their account balance, deposit money, or withdraw\n",
    " funds. It should start with an initial balance of 1000. The user\n",
    " can perform these actions in a loop until they choose to exit.\n",
    " When attempting to withdraw money, the program should\n",
    " ensure that the user does not exceed the available balance and\n",
    " display an appropriate message in case of insufficient funds. '''\n",
    "\n",
    "\n",
    "\n",
    "# Initial balance\n",
    "balance = 1000\n",
    "\n",
    "# Function to check balance\n",
    "def check_balance():\n",
    "    print(f\"Your current balance is: Rs {balance}\")\n",
    "\n",
    "# Function to deposit money\n",
    "def deposit():\n",
    "    global balance\n",
    "    amount = float(input(\"Enter the amount to deposit: Rs \"))\n",
    "    if amount > 0:\n",
    "        balance += amount\n",
    "        print(f\"Rs {amount} has been deposited. Your new balance is: Rs {balance}\")\n",
    "    else:\n",
    "        print(\"Invalid amount. Deposit failed.\")\n",
    "\n",
    "# Function to withdraw money\n",
    "def withdraw():\n",
    "    global balance\n",
    "    amount = float(input(\"Enter the amount to withdraw: Rs \"))\n",
    "    if amount > balance:\n",
    "        print(\"Insufficient funds. Please check your balance.\")\n",
    "    elif amount <= 0:\n",
    "        print(\"Invalid amount. Withdrawal failed.\")\n",
    "    else:\n",
    "        balance -= amount\n",
    "        print(f\"Rs {amount} has been withdrawn. Your new balance is: Rs {balance}\")\n",
    "\n",
    "# Main ATM functionality\n",
    "def atm_machine():\n",
    "    global balance\n",
    "    while True:\n",
    "        print(\"\\nATM Menu:\")\n",
    "        print(\"1. Check Balance\")\n",
    "        print(\"2. Deposit Money\")\n",
    "        print(\"3. Withdraw Money\")\n",
    "        print(\"4. Exit\")\n",
    "        \n",
    "        choice = input(\"Please choose an option (1/2/3/4): \")\n",
    "        \n",
    "        if choice == \"1\":\n",
    "            check_balance()\n",
    "        elif choice == \"2\":\n",
    "            deposit()\n",
    "        elif choice == \"3\":\n",
    "            withdraw()\n",
    "        elif choice == \"4\":\n",
    "            print(\"Thank you for using the ATM. Goodbye!\")\n",
    "            break\n",
    "        else:\n",
    "            print(\"Invalid choice. Please try again.\")\n",
    "\n",
    "# Run the ATM machine\n",
    "atm_machine()\n",
    "\n"
   ]
  },
  {
   "cell_type": "code",
   "execution_count": 1,
   "id": "27a4d754-9a7c-401e-9e4c-017798920e07",
   "metadata": {},
   "outputs": [
    {
     "name": "stdout",
     "output_type": "stream",
     "text": [
      "Before changes\n",
      "{'tomato': 10, 'onion': 33, 'apple': 45, 'potato': 55, 'carrot': 20}\n",
      "\n",
      "Inventory Menu:\n",
      "1. Update menu\n",
      "2. Add new item\n",
      "3. Remove item\n",
      "4. Exit\n"
     ]
    },
    {
     "name": "stdin",
     "output_type": "stream",
     "text": [
      "Please choose an option (1/2/3/4):  1\n",
      "Enter a item to update : carrot\n",
      "Enter a quantity to update : 435\n"
     ]
    },
    {
     "name": "stdout",
     "output_type": "stream",
     "text": [
      "\n",
      "Inventory Menu:\n",
      "1. Update menu\n",
      "2. Add new item\n",
      "3. Remove item\n",
      "4. Exit\n"
     ]
    },
    {
     "name": "stdin",
     "output_type": "stream",
     "text": [
      "Please choose an option (1/2/3/4):  2\n",
      "Enter a item to add : cabbage\n",
      "Enter a quantity to add : 32\n"
     ]
    },
    {
     "name": "stdout",
     "output_type": "stream",
     "text": [
      "\n",
      "Inventory Menu:\n",
      "1. Update menu\n",
      "2. Add new item\n",
      "3. Remove item\n",
      "4. Exit\n"
     ]
    },
    {
     "name": "stdin",
     "output_type": "stream",
     "text": [
      "Please choose an option (1/2/3/4):  4\n"
     ]
    },
    {
     "name": "stdout",
     "output_type": "stream",
     "text": [
      "Changes have been made\n",
      "After the changes:\n",
      "{'tomato': 10, 'onion': 33, 'apple': 45, 'potato': 55, 'carrot': 435, 'cabbage': 32}\n"
     ]
    }
   ],
   "source": [
    "'''Grocery Store Inventory:\n",
    " Create a Python program that represents a grocery store\n",
    " inventory using a dictionary, where the keys are the names\n",
    " of items and the values are their quantities. The program\n",
    " should allow the user to perform the following actions:\n",
    " update the quantity of an existing item, add a new item to\n",
    " the inventory with a specified quantity, and remove an item\n",
    " from the inventory. The user should be prompted for their\n",
    " desired action, and the program should handle invalid input\n",
    " gracefully. This will help in understanding dictionary\n",
    " manipulation and user interaction in Python'''\n",
    "\n",
    "\n",
    "inventory = {\"tomato\" : 10, \"onion\": 33, \"apple\" : 45, \"potato\": 55, \"carrot\": 20}\n",
    "print(\"Before changes\")\n",
    "print(inventory)\n",
    "\n",
    "#update the quantity of an existing item\n",
    "def update():\n",
    "    a = str(input(\"Enter a item to update :\"))\n",
    "    b = int(input(\"Enter a quantity to update :\"))\n",
    "    if a in inventory :\n",
    "        inventory[a] = b\n",
    "    else:\n",
    "        print(\"iten not found in dictionary!\")\n",
    "\n",
    "#add a new item to the inventory with a specified quantity\n",
    "def add_item():\n",
    "    c = str(input(\"Enter a item to add :\"))\n",
    "    d = int(input(\"Enter a quantity to add :\"))\n",
    "    inventory[c] = d\n",
    "\n",
    "#remove an item from inventory\n",
    "def remove_item():\n",
    "    e =str(input(\"Please enter a item to remove:\"))\n",
    "    if e in inventory:\n",
    "        del inventory[e]\n",
    "        print(f\"The item {e} has been removed\")\n",
    "    else:\n",
    "        print(f\"The item {e} was not found in invetory\")\n",
    "\n",
    "def execution():\n",
    "    while True:\n",
    "        print(\"\\nInventory Menu:\")\n",
    "        print(\"1. Update menu\")\n",
    "        print(\"2. Add new item\")\n",
    "        print(\"3. Remove item\")\n",
    "        print(\"4. Exit\")\n",
    "            \n",
    "        choice = input(\"Please choose an option (1/2/3/4): \")\n",
    "            \n",
    "        if choice == \"1\":\n",
    "            update()\n",
    "        elif choice == \"2\":\n",
    "            add_item()\n",
    "        elif choice == \"3\":\n",
    "            remove_item()\n",
    "        elif choice == \"4\":\n",
    "            print(\"Changes have been made\")\n",
    "            break\n",
    "        else:\n",
    "            print(\"Invalid choice. Please try again.\")\n",
    "\n",
    "execution()\n",
    "print(\"After the changes:\")\n",
    "print(inventory)\n",
    "\n"
   ]
  },
  {
   "cell_type": "code",
   "execution_count": 1,
   "id": "72dffaeb-72a7-40aa-9528-1100c1645eee",
   "metadata": {},
   "outputs": [
    {
     "name": "stdout",
     "output_type": "stream",
     "text": [
      "Books available before changes\n",
      "{'1': 'Anna Karenina', '2': 'Madame Bovari', '3': 'War & Peace', '4': 'The Great Gatsby', '5': 'Lolita', '6': 'Middlemarch', '7': 'Adventures of Huckleberry', '8': 'Hamlet', '9': 'King Lear', '10': 'The Odyssey'}\n",
      "\n",
      "Library Book Tracker Menu:\n",
      "1. Update book records\n",
      "2. Search for existing books\n",
      "3. Remove book from records\n",
      "4. Exit\n"
     ]
    },
    {
     "name": "stdin",
     "output_type": "stream",
     "text": [
      "Please choose an option (1/2/3/4):  2\n",
      "Enter a book name : hamlet\n"
     ]
    },
    {
     "name": "stdout",
     "output_type": "stream",
     "text": [
      "The book Hamlet has found\n",
      "\n",
      "Library Book Tracker Menu:\n",
      "1. Update book records\n",
      "2. Search for existing books\n",
      "3. Remove book from records\n",
      "4. Exit\n"
     ]
    },
    {
     "name": "stdin",
     "output_type": "stream",
     "text": [
      "Please choose an option (1/2/3/4):  1\n",
      "Enter a sequential key number : 11\n",
      "Enter a book name : Wings of fire\n"
     ]
    },
    {
     "name": "stdout",
     "output_type": "stream",
     "text": [
      "\n",
      "Library Book Tracker Menu:\n",
      "1. Update book records\n",
      "2. Search for existing books\n",
      "3. Remove book from records\n",
      "4. Exit\n"
     ]
    },
    {
     "name": "stdin",
     "output_type": "stream",
     "text": [
      "Please choose an option (1/2/3/4):  4\n"
     ]
    },
    {
     "name": "stdout",
     "output_type": "stream",
     "text": [
      "Changes have been made\n",
      "Books available after changes\n",
      "{'1': 'Anna Karenina', '2': 'Madame Bovari', '3': 'War & Peace', '4': 'The Great Gatsby', '5': 'Lolita', '6': 'Middlemarch', '7': 'Adventures of Huckleberry', '8': 'Hamlet', '9': 'King Lear', '10': 'The Odyssey', 11: 'Wings of fire'}\n"
     ]
    }
   ],
   "source": [
    "'''Library Book Tracker:\n",
    " Develop a Python program to manage a library system\n",
    " with options to add, remove, and search for books.'''\n",
    "\n",
    "book_keeper ={\"1\":\"Anna Karenina\",\n",
    "\"2\":\"Madame Bovari\",\n",
    "\"3\":\"War & Peace\",\n",
    "\"4\":\"The Great Gatsby\",\n",
    "\"5\":\"Lolita\",\n",
    "\"6\":\"Middlemarch\",\n",
    "\"7\":\"Adventures of Huckleberry\",\n",
    "\"8\":\"Hamlet\",\n",
    "\"9\":\"King Lear\",\n",
    "\"10\":\"The Odyssey\"\n",
    "}\n",
    "print(\"Books available before changes\")\n",
    "print(book_keeper)\n",
    "\n",
    "def book_add():\n",
    "    a = int(input(\"Enter a sequential key number :\"))\n",
    "    b = str(input(\"Enter a book name :\"))\n",
    "    book_keeper[a] = b\n",
    "\n",
    "def book_remove():\n",
    "    c = input(\"Enter a book name :\").strip()\n",
    "    found = False\n",
    "    for key, value in book_keeper.items():\n",
    "        if value.lower()==c.lower():\n",
    "            del book_keeper[key]\n",
    "            print(f\"The book {c} has been removed\")\n",
    "            found = True\n",
    "            break\n",
    "    if not found:\n",
    "        print(f\"The book '{c}' was not found in book records.\")\n",
    "\n",
    "def book_search():\n",
    "    d = input(\"Enter a book name :\").strip()\n",
    "    found = False\n",
    "    for key, values in book_keeper.items():\n",
    "        if values.lower()==d.lower():\n",
    "            print(f\"The book {values} has found\")\n",
    "            found = True\n",
    "            break\n",
    "    if not found:\n",
    "        print(f\"The book '{d}' was not found in book records.\")\n",
    "\n",
    "\n",
    "def library_book():\n",
    "    while True:\n",
    "        print(\"\\nLibrary Book Tracker Menu:\")\n",
    "        print(\"1. Update book records\")\n",
    "        print(\"2. Search for existing books\")\n",
    "        print(\"3. Remove book from records\")\n",
    "        print(\"4. Exit\")\n",
    "            \n",
    "        choice = input(\"Please choose an option (1/2/3/4): \")\n",
    "            \n",
    "        if choice == \"1\":\n",
    "            book_add()\n",
    "        elif choice == \"2\":\n",
    "            book_search()\n",
    "        elif choice == \"3\":\n",
    "            boook_remove()\n",
    "        elif choice == \"4\":\n",
    "            print(\"Changes have been made\")\n",
    "            break\n",
    "        else:\n",
    "            print(\"Invalid choice. Please try again.\")\n",
    "            \n",
    "library_book() \n",
    "\n",
    "print(\"Books available after changes\")\n",
    "print(book_keeper)\n",
    "\n",
    "\n"
   ]
  },
  {
   "cell_type": "code",
   "execution_count": 2,
   "id": "d25b2537-7772-4527-bf81-084c7f1b2998",
   "metadata": {},
   "outputs": [
    {
     "name": "stdout",
     "output_type": "stream",
     "text": [
      "1. Initiate conversion of temperature from celcius to fahrenheit\n",
      "2. To check last five entries\n",
      "3. Exit \n"
     ]
    },
    {
     "name": "stdin",
     "output_type": "stream",
     "text": [
      "Please choose an option (1/2/3):  1\n",
      "Please enter a temperature in celcius: 2\n"
     ]
    },
    {
     "name": "stdout",
     "output_type": "stream",
     "text": [
      "Temperature in Farenheit is 67.6 for 2 celcius\n",
      "1. Initiate conversion of temperature from celcius to fahrenheit\n",
      "2. To check last five entries\n",
      "3. Exit \n"
     ]
    },
    {
     "name": "stdin",
     "output_type": "stream",
     "text": [
      "Please choose an option (1/2/3):  2\n"
     ]
    },
    {
     "name": "stdout",
     "output_type": "stream",
     "text": [
      "Last five temperature entries converted to fahrenheit from celcius\n",
      "[2]\n",
      "1. Initiate conversion of temperature from celcius to fahrenheit\n",
      "2. To check last five entries\n",
      "3. Exit \n"
     ]
    },
    {
     "name": "stdin",
     "output_type": "stream",
     "text": [
      "Please choose an option (1/2/3):  34\n"
     ]
    },
    {
     "name": "stdout",
     "output_type": "stream",
     "text": [
      "Invalid choice, please try again.\n",
      "1. Initiate conversion of temperature from celcius to fahrenheit\n",
      "2. To check last five entries\n",
      "3. Exit \n"
     ]
    },
    {
     "name": "stdin",
     "output_type": "stream",
     "text": [
      "Please choose an option (1/2/3):  1\n",
      "Please enter a temperature in celcius: 23\n"
     ]
    },
    {
     "name": "stdout",
     "output_type": "stream",
     "text": [
      "Temperature in Farenheit is 777.4 for 23 celcius\n",
      "1. Initiate conversion of temperature from celcius to fahrenheit\n",
      "2. To check last five entries\n",
      "3. Exit \n"
     ]
    },
    {
     "name": "stdin",
     "output_type": "stream",
     "text": [
      "Please choose an option (1/2/3):  2\n"
     ]
    },
    {
     "name": "stdout",
     "output_type": "stream",
     "text": [
      "Last five temperature entries converted to fahrenheit from celcius\n",
      "[2, 23]\n",
      "1. Initiate conversion of temperature from celcius to fahrenheit\n",
      "2. To check last five entries\n",
      "3. Exit \n"
     ]
    },
    {
     "name": "stdin",
     "output_type": "stream",
     "text": [
      "Please choose an option (1/2/3):  1\n",
      "Please enter a temperature in celcius: 234\n"
     ]
    },
    {
     "name": "stdout",
     "output_type": "stream",
     "text": [
      "Temperature in Farenheit is 7909.199999999999 for 234 celcius\n",
      "1. Initiate conversion of temperature from celcius to fahrenheit\n",
      "2. To check last five entries\n",
      "3. Exit \n"
     ]
    },
    {
     "name": "stdin",
     "output_type": "stream",
     "text": [
      "Please choose an option (1/2/3):  1\n",
      "Please enter a temperature in celcius: 22\n"
     ]
    },
    {
     "name": "stdout",
     "output_type": "stream",
     "text": [
      "Temperature in Farenheit is 743.5999999999999 for 22 celcius\n",
      "1. Initiate conversion of temperature from celcius to fahrenheit\n",
      "2. To check last five entries\n",
      "3. Exit \n"
     ]
    },
    {
     "name": "stdin",
     "output_type": "stream",
     "text": [
      "Please choose an option (1/2/3):  1\n",
      "Please enter a temperature in celcius: 12\n"
     ]
    },
    {
     "name": "stdout",
     "output_type": "stream",
     "text": [
      "Temperature in Farenheit is 405.59999999999997 for 12 celcius\n",
      "1. Initiate conversion of temperature from celcius to fahrenheit\n",
      "2. To check last five entries\n",
      "3. Exit \n"
     ]
    },
    {
     "name": "stdin",
     "output_type": "stream",
     "text": [
      "Please choose an option (1/2/3):  1\n",
      "Please enter a temperature in celcius: 11\n"
     ]
    },
    {
     "name": "stdout",
     "output_type": "stream",
     "text": [
      "Temperature in Farenheit is 371.79999999999995 for 11 celcius\n",
      "1. Initiate conversion of temperature from celcius to fahrenheit\n",
      "2. To check last five entries\n",
      "3. Exit \n"
     ]
    },
    {
     "name": "stdin",
     "output_type": "stream",
     "text": [
      "Please choose an option (1/2/3):  2\n"
     ]
    },
    {
     "name": "stdout",
     "output_type": "stream",
     "text": [
      "Last five temperature entries converted to fahrenheit from celcius\n",
      "[23, 234, 22, 12, 11]\n",
      "1. Initiate conversion of temperature from celcius to fahrenheit\n",
      "2. To check last five entries\n",
      "3. Exit \n"
     ]
    },
    {
     "name": "stdin",
     "output_type": "stream",
     "text": [
      "Please choose an option (1/2/3):  1\n",
      "Please enter a temperature in celcius: 20\n"
     ]
    },
    {
     "name": "stdout",
     "output_type": "stream",
     "text": [
      "Temperature in Farenheit is 676.0 for 20 celcius\n",
      "1. Initiate conversion of temperature from celcius to fahrenheit\n",
      "2. To check last five entries\n",
      "3. Exit \n"
     ]
    },
    {
     "name": "stdin",
     "output_type": "stream",
     "text": [
      "Please choose an option (1/2/3):  2\n"
     ]
    },
    {
     "name": "stdout",
     "output_type": "stream",
     "text": [
      "Last five temperature entries converted to fahrenheit from celcius\n",
      "[234, 22, 12, 11, 20]\n",
      "1. Initiate conversion of temperature from celcius to fahrenheit\n",
      "2. To check last five entries\n",
      "3. Exit \n"
     ]
    },
    {
     "name": "stdin",
     "output_type": "stream",
     "text": [
      "Please choose an option (1/2/3):  1\n",
      "Please enter a temperature in celcius: 45\n"
     ]
    },
    {
     "name": "stdout",
     "output_type": "stream",
     "text": [
      "Temperature in Farenheit is 1520.9999999999998 for 45 celcius\n",
      "1. Initiate conversion of temperature from celcius to fahrenheit\n",
      "2. To check last five entries\n",
      "3. Exit \n"
     ]
    },
    {
     "name": "stdin",
     "output_type": "stream",
     "text": [
      "Please choose an option (1/2/3):  2\n"
     ]
    },
    {
     "name": "stdout",
     "output_type": "stream",
     "text": [
      "Last five temperature entries converted to fahrenheit from celcius\n",
      "[22, 12, 11, 20, 45]\n",
      "1. Initiate conversion of temperature from celcius to fahrenheit\n",
      "2. To check last five entries\n",
      "3. Exit \n"
     ]
    },
    {
     "name": "stdin",
     "output_type": "stream",
     "text": [
      "Please choose an option (1/2/3):  1\n",
      "Please enter a temperature in celcius: 34\n"
     ]
    },
    {
     "name": "stdout",
     "output_type": "stream",
     "text": [
      "Temperature in Farenheit is 1149.1999999999998 for 34 celcius\n",
      "1. Initiate conversion of temperature from celcius to fahrenheit\n",
      "2. To check last five entries\n",
      "3. Exit \n"
     ]
    },
    {
     "name": "stdin",
     "output_type": "stream",
     "text": [
      "Please choose an option (1/2/3):  2\n"
     ]
    },
    {
     "name": "stdout",
     "output_type": "stream",
     "text": [
      "Last five temperature entries converted to fahrenheit from celcius\n",
      "[12, 11, 20, 45, 34]\n",
      "1. Initiate conversion of temperature from celcius to fahrenheit\n",
      "2. To check last five entries\n",
      "3. Exit \n"
     ]
    },
    {
     "name": "stdin",
     "output_type": "stream",
     "text": [
      "Please choose an option (1/2/3):  3\n"
     ]
    },
    {
     "name": "stdout",
     "output_type": "stream",
     "text": [
      "Thank you, changes have been made.\n"
     ]
    }
   ],
   "source": [
    "'''Temperature Converter with History:\n",
    " Create a Python program that functions as a temperature\n",
    " converter, allowing the user to convert temperatures between\n",
    " Celsius and Fahrenheit. The program should store and display\n",
    " the last five conversions, showing both the input value and the\n",
    " result. The user should be able to choose the direction of\n",
    " conversion (Celsius to Fahrenheit or Fahrenheit to Celsius), and\n",
    " the program should maintain a history of the last five\n",
    " conversions, displaying the most recent ones at the end of each\n",
    " conversion'''\n",
    "\n",
    "last_five =[]\n",
    "\n",
    "def temp_converter():\n",
    "    global last_five\n",
    "    a_cel = int(input(\"Please enter a temperature in celcius:\"))\n",
    "    a_fah = a_cel * 33.8\n",
    "    print(f\"Temperature in Farenheit is {a_fah} for {a_cel} celcius\")\n",
    "    last_five.append(a_cel)\n",
    "    if len(last_five)> 5 :\n",
    "        last_five.pop(0)\n",
    "        return\n",
    "    \n",
    "\n",
    "def last_five_history():\n",
    "    print(\"Last five temperature entries converted to fahrenheit from celcius\")\n",
    "    print(last_five)\n",
    "    \n",
    "def execute_temp():\n",
    "    while True:\n",
    "        print(\"1. Initiate conversion of temperature from celcius to fahrenheit\")\n",
    "        print(\"2. To check last five entries\")\n",
    "        print(\"3. Exit \")\n",
    "\n",
    "        choice = input(\"Please choose an option (1/2/3): \")\n",
    "\n",
    "        if choice == \"1\":\n",
    "            temp_converter()\n",
    "        elif choice == \"2\":\n",
    "            last_five_history()\n",
    "        elif choice == \"3\":\n",
    "            print(\"Thank you, changes have been made.\")\n",
    "            break\n",
    "        else:\n",
    "            print(\"Invalid choice, please try again.\")\n",
    "\n",
    "execute_temp()\n",
    "            \n",
    "            \n",
    "        \n",
    "    \n",
    "\n",
    "\n"
   ]
  },
  {
   "cell_type": "code",
   "execution_count": 6,
   "id": "a2fadcf8-e227-41e0-b41d-86c9b641f717",
   "metadata": {},
   "outputs": [
    {
     "name": "stdin",
     "output_type": "stream",
     "text": [
      "Guess the number selected by computer: 1\n"
     ]
    },
    {
     "name": "stdout",
     "output_type": "stream",
     "text": [
      "Too Low\n"
     ]
    },
    {
     "name": "stdin",
     "output_type": "stream",
     "text": [
      "Guess the number selected by computer: 10\n"
     ]
    },
    {
     "name": "stdout",
     "output_type": "stream",
     "text": [
      "Too Low\n"
     ]
    },
    {
     "name": "stdin",
     "output_type": "stream",
     "text": [
      "Guess the number selected by computer: 20\n"
     ]
    },
    {
     "name": "stdout",
     "output_type": "stream",
     "text": [
      "Too Low\n"
     ]
    },
    {
     "name": "stdin",
     "output_type": "stream",
     "text": [
      "Guess the number selected by computer: 40\n"
     ]
    },
    {
     "name": "stdout",
     "output_type": "stream",
     "text": [
      "Too High\n"
     ]
    },
    {
     "name": "stdin",
     "output_type": "stream",
     "text": [
      "Guess the number selected by computer: 30\n"
     ]
    },
    {
     "name": "stdout",
     "output_type": "stream",
     "text": [
      "Too High\n"
     ]
    },
    {
     "name": "stdin",
     "output_type": "stream",
     "text": [
      "Guess the number selected by computer: 25\n"
     ]
    },
    {
     "name": "stdout",
     "output_type": "stream",
     "text": [
      "Too High\n"
     ]
    },
    {
     "name": "stdin",
     "output_type": "stream",
     "text": [
      "Guess the number selected by computer: 22\n"
     ]
    },
    {
     "name": "stdout",
     "output_type": "stream",
     "text": [
      "Too Low\n"
     ]
    },
    {
     "name": "stdin",
     "output_type": "stream",
     "text": [
      "Guess the number selected by computer: 23\n"
     ]
    },
    {
     "name": "stdout",
     "output_type": "stream",
     "text": [
      "Too Low\n"
     ]
    },
    {
     "name": "stdin",
     "output_type": "stream",
     "text": [
      "Guess the number selected by computer: 24\n"
     ]
    },
    {
     "name": "stdout",
     "output_type": "stream",
     "text": [
      "Kudos, your guess is correct.\n",
      "The number is {24}\n"
     ]
    }
   ],
   "source": [
    "'''Number Guessing Game:\n",
    " Create a Python program where the computer randomly\n",
    " selects a number between 1 and 100, and the user has to\n",
    " guess the number. After each guess, the program should\n",
    " provide feedback such as 'Too High' if the guess is greater\n",
    " than the number, or 'Too Low' if the guess is smaller. The\n",
    " program should continue prompting the user for guesses\n",
    " until the correct number is guessed, and then it should\n",
    " congratulate the user for finding the number.'''\n",
    "\n",
    "import random\n",
    "\n",
    "random_number = random.randint(1,100)\n",
    "\n",
    "def number_game():\n",
    "    while True:\n",
    "        a = int(input(\"Guess the number selected by computer:\"))\n",
    "\n",
    "        if a == random_number:\n",
    "            print(\"Kudos, your guess is correct.\\nThe number is\", {random_number})\n",
    "            break\n",
    "        elif a > random_number:\n",
    "            print(\"Too High\")\n",
    "        elif a < random_number:\n",
    "            print(\"Too Low\")\n",
    "        else:\n",
    "            print(\"Please enter a number only:\")\n",
    "\n",
    "number_game()\n"
   ]
  },
  {
   "cell_type": "code",
   "execution_count": 5,
   "id": "c6b938fe-7e8e-49ec-834f-33f009bed624",
   "metadata": {},
   "outputs": [
    {
     "name": "stdout",
     "output_type": "stream",
     "text": [
      "Please select operation to perform\n",
      "1. Addition\n",
      "2. Subtraction\n",
      "3. Multiplication\n",
      "4. Division\n",
      "5. Display last three transaction\n",
      "6. Exit\n"
     ]
    },
    {
     "name": "stdin",
     "output_type": "stream",
     "text": [
      "Please choose an option (1/2/3/4/5/6):  1\n",
      "Please enter first number: 1\n",
      "Please enter second number: 1\n"
     ]
    },
    {
     "name": "stdout",
     "output_type": "stream",
     "text": [
      "The sum of 1 and 1 is 2\n",
      "Please select operation to perform\n",
      "1. Addition\n",
      "2. Subtraction\n",
      "3. Multiplication\n",
      "4. Division\n",
      "5. Display last three transaction\n",
      "6. Exit\n"
     ]
    },
    {
     "name": "stdin",
     "output_type": "stream",
     "text": [
      "Please choose an option (1/2/3/4/5/6):  2\n",
      "Please enter first number: 2\n",
      "Please enter second number: 1\n"
     ]
    },
    {
     "name": "stdout",
     "output_type": "stream",
     "text": [
      "The subtraction of 2 and 1 is 1\n",
      "Please select operation to perform\n",
      "1. Addition\n",
      "2. Subtraction\n",
      "3. Multiplication\n",
      "4. Division\n",
      "5. Display last three transaction\n",
      "6. Exit\n"
     ]
    },
    {
     "name": "stdin",
     "output_type": "stream",
     "text": [
      "Please choose an option (1/2/3/4/5/6):  3\n",
      "Please enter first number: 3\n",
      "Please enter second number: 3\n"
     ]
    },
    {
     "name": "stdout",
     "output_type": "stream",
     "text": [
      "The multiplication of 3 and 3 is 9\n",
      "Please select operation to perform\n",
      "1. Addition\n",
      "2. Subtraction\n",
      "3. Multiplication\n",
      "4. Division\n",
      "5. Display last three transaction\n",
      "6. Exit\n"
     ]
    },
    {
     "name": "stdin",
     "output_type": "stream",
     "text": [
      "Please choose an option (1/2/3/4/5/6):  4\n",
      "Please enter first number: 4\n",
      "Please enter second number: 4\n"
     ]
    },
    {
     "name": "stdout",
     "output_type": "stream",
     "text": [
      "The division of 4 and 4 is 1.0\n",
      "Please select operation to perform\n",
      "1. Addition\n",
      "2. Subtraction\n",
      "3. Multiplication\n",
      "4. Division\n",
      "5. Display last three transaction\n",
      "6. Exit\n"
     ]
    },
    {
     "name": "stdin",
     "output_type": "stream",
     "text": [
      "Please choose an option (1/2/3/4/5/6):  5\n"
     ]
    },
    {
     "name": "stdout",
     "output_type": "stream",
     "text": [
      "\n",
      "Last 3 Transactions:\n",
      "Subtraction: 1\n",
      "Multiplication: 9\n",
      "Division: 1.0\n",
      "Please select operation to perform\n",
      "1. Addition\n",
      "2. Subtraction\n",
      "3. Multiplication\n",
      "4. Division\n",
      "5. Display last three transaction\n",
      "6. Exit\n"
     ]
    },
    {
     "name": "stdin",
     "output_type": "stream",
     "text": [
      "Please choose an option (1/2/3/4/5/6):  6\n"
     ]
    },
    {
     "name": "stdout",
     "output_type": "stream",
     "text": [
      "Thank you!\n"
     ]
    }
   ],
   "source": [
    "'''Basic Calculator with History:\n",
    " Create a Python program that implements a calculator\n",
    " capable of performing addition, subtraction,\n",
    " multiplication, and division. The program should allow\n",
    " the user to input two numbers and select the desired\n",
    " operation. After each calculation, the program should\n",
    " display the result and store the last three calculations. If\n",
    " more than three calculations are performed, the oldest\n",
    " one should be removed to make room for the new one.'''\n",
    "\n",
    "\n",
    "\n",
    "transaction_history = {}\n",
    "\n",
    "def add_numbers():\n",
    "    a = int(input(\"Please enter first number:\"))\n",
    "    b = int(input(\"Please enter second number:\"))\n",
    "    c = a+b\n",
    "    print(f\"The sum of {a} and {b} is {c}\")\n",
    "    transaction(\"Addition\", c)\n",
    "\n",
    "def substract_numbers():\n",
    "    a = int(input(\"Please enter first number:\"))\n",
    "    b = int(input(\"Please enter second number:\"))\n",
    "    d = a-b\n",
    "    print(f\"The subtraction of {a} and {b} is {d}\")\n",
    "    transaction(\"Subtraction\", d)\n",
    "\n",
    "def multiply_numbers():\n",
    "    a = int(input(\"Please enter first number:\"))\n",
    "    b = int(input(\"Please enter second number:\"))\n",
    "    e = a*b\n",
    "    print(f\"The multiplication of {a} and {b} is {e}\")\n",
    "    transaction(\"Multiplication\", e)\n",
    "\n",
    "def divide_numbers():\n",
    "    while True:\n",
    "        try:\n",
    "            a = int(input(\"Please enter first number:\"))\n",
    "            b = int(input(\"Please enter second number:\"))\n",
    "            if b == 0:\n",
    "                print(\"please enter non zero number\")\n",
    "                continue\n",
    "            f = a/b\n",
    "            print(f\"The division of {a} and {b} is {f}\")\n",
    "            transaction(\"Division\", f)\n",
    "            break\n",
    "        except:\n",
    "            print(\"Please enter valid numbers\")\n",
    "\n",
    "def transaction(operation, result):\n",
    "    transaction_history[operation] = result\n",
    "    if len(transaction_history)>3:\n",
    "        transaction_history.pop(next(iter(transaction_history)))\n",
    "\n",
    "def display_last_transactions():\n",
    "    print(\"\\nLast 3 Transactions:\")\n",
    "    if transaction_history:\n",
    "        for operation, result in transaction_history.items():\n",
    "            print(f\"{operation}: {result}\")\n",
    "    else:\n",
    "        print(\"No transactions available.\")\n",
    "\n",
    "def calculator():\n",
    "    while True:\n",
    "        print(\"Please select operation to perform\")\n",
    "        print(\"1. Addition\")\n",
    "        print(\"2. Subtraction\")\n",
    "        print(\"3. Multiplication\")\n",
    "        print(\"4. Division\")\n",
    "        print(\"5. Display last three transaction\")\n",
    "        print(\"6. Exit\")\n",
    "\n",
    "        choice = input(\"Please choose an option (1/2/3/4/5/6): \")\n",
    "\n",
    "        if choice == \"1\":\n",
    "            add_numbers()\n",
    "        elif choice == \"2\":\n",
    "            substract_numbers()\n",
    "        elif choice == \"3\":\n",
    "            multiply_numbers()\n",
    "        elif choice == \"4\":\n",
    "            divide_numbers()\n",
    "        elif choice == \"5\":\n",
    "            display_last_transactions()\n",
    "        elif choice == \"6\":\n",
    "            print(\"Thank you!\")\n",
    "            break\n",
    "        else:\n",
    "            print(\"Please choose correct option\")\n",
    "            \n",
    "calculator()\n",
    "        \n",
    "\n",
    "\n",
    "\n",
    "\n",
    "    "
   ]
  },
  {
   "cell_type": "code",
   "execution_count": 11,
   "id": "2a9dab6a-3f0c-4ea8-b4c7-43e63caa96a0",
   "metadata": {},
   "outputs": [
    {
     "name": "stdin",
     "output_type": "stream",
     "text": [
      "Enter the name of subject: Sci\n",
      "Enter the marks for Sci: 66\n"
     ]
    },
    {
     "name": "stdout",
     "output_type": "stream",
     "text": [
      "Subject Sci with mark 66.0 added to dictionary.\n"
     ]
    },
    {
     "name": "stdin",
     "output_type": "stream",
     "text": [
      "Enter the name of subject: Math\n",
      "Enter the marks for Math: 65\n"
     ]
    },
    {
     "name": "stdout",
     "output_type": "stream",
     "text": [
      "Subject Math with mark 65.0 added to dictionary.\n"
     ]
    },
    {
     "name": "stdin",
     "output_type": "stream",
     "text": [
      "Enter the name of subject: Eng\n",
      "Enter the marks for Eng: 88\n"
     ]
    },
    {
     "name": "stdout",
     "output_type": "stream",
     "text": [
      "Subject Eng with mark 88.0 added to dictionary.\n"
     ]
    },
    {
     "name": "stdin",
     "output_type": "stream",
     "text": [
      "Enter the name of subject: Sanskrit\n",
      "Enter the marks for Sanskrit: 64\n"
     ]
    },
    {
     "name": "stdout",
     "output_type": "stream",
     "text": [
      "Subject Sanskrit with mark 64.0 added to dictionary.\n"
     ]
    },
    {
     "name": "stdin",
     "output_type": "stream",
     "text": [
      "Enter the name of subject: Geography\n",
      "Enter the marks for Geography: 88\n"
     ]
    },
    {
     "name": "stdout",
     "output_type": "stream",
     "text": [
      "Subject Geography with mark 88.0 added to dictionary.\n",
      "The average score of student is :88.0\n",
      "The Total score of student is : 440.0\n",
      "The grade of student is 'B'\n"
     ]
    }
   ],
   "source": [
    "'''Student Grade Calculator:\n",
    " Create a Python program that takes the marks for 5 subjects as\n",
    " input from the user, calculates the total marks, the average\n",
    " score, and assigns a grade based on the average. The grade can\n",
    " be determined based on typical thresholds, such as:\n",
    " A: Average >= 90\n",
    " B: Average >= 75\n",
    " C: Average >= 60\n",
    " D: Average >= 50\n",
    " F: Average < 50\n",
    " The program should display the total marks, average, and\n",
    " corresponding grade to the user. '''\n",
    "\n",
    "marks = {}\n",
    "\n",
    "Total_marks = 0\n",
    "Average_marks = 0\n",
    "Count = 0\n",
    "\n",
    "def student_marksheet():\n",
    "    global Total_marks\n",
    "    global Average_marks\n",
    "    global Count\n",
    "    \n",
    "    for i in range(1,6):\n",
    "        key = input(\"Enter the name of subject:\")\n",
    "        value =input(f\"Enter the marks for {key}:\")\n",
    "        value = float(value)\n",
    "        marks[key] = value\n",
    "        print(f\"Subject {key} with mark {value} added to dictionary.\")\n",
    "        \n",
    "    for values in marks.values():\n",
    "        Total_marks += value\n",
    "        Count += 1\n",
    "    if Count > 0:\n",
    "        Average_marks = Total_marks/Count\n",
    "        print(f\"The average score of student is :{Average_marks}\")\n",
    "        print(f\"The Total score of student is : {Total_marks}\")\n",
    "    else:\n",
    "        print(\"No score available\")\n",
    "        \n",
    "    if Average_marks >= 90:\n",
    "        print(\"The grade of student is 'A'\")\n",
    "    elif Average_marks >= 75:\n",
    "        print(\"The grade of student is 'B'\")\n",
    "    elif Average_marks >= 60:\n",
    "        print(\"The grade of student is 'C'\")\n",
    "    elif Average_marks >= 50:\n",
    "        print(\"The grade of student is 'D'\")\n",
    "    else:\n",
    "        print(\"The grade of student is 'F'\")\n",
    "\n",
    "student_marksheet()\n",
    "    \n",
    "\n",
    "        \n",
    "            \n"
   ]
  },
  {
   "cell_type": "code",
   "execution_count": 14,
   "id": "4d204365-aacf-4a12-a574-aa7fc7ff6410",
   "metadata": {},
   "outputs": [
    {
     "name": "stdin",
     "output_type": "stream",
     "text": [
      "Enter a sentence: Hold on hold on I am on my way \n"
     ]
    },
    {
     "name": "stdout",
     "output_type": "stream",
     "text": [
      "The frquency of words in given sentence is as below:\n",
      "{'hold': 2, 'on': 3, 'i': 1, 'am': 1, 'my': 1, 'way': 1}\n"
     ]
    }
   ],
   "source": [
    "'''Word Frequency Converter:\n",
    " Create a Python program that allows the user to input a\n",
    " sentence, then counts the frequency of each word in the\n",
    " sentence. '''\n",
    "\n",
    "def word_frequency_converter():\n",
    "    sentence = input(\"Enter a sentence:\").lower().split()\n",
    "    dict = {}\n",
    "    for i in sentence :\n",
    "        if i in dict:\n",
    "            dict[i] = dict[i]+1\n",
    "        else:\n",
    "            dict[i] =1\n",
    "    print(\"The frquency of words in given sentence is as below:\")\n",
    "    print(dict)\n",
    "\n",
    "word_frequency_converter()"
   ]
  },
  {
   "cell_type": "code",
   "execution_count": null,
   "id": "70c1749c-e808-43ff-9992-54eb0ee3afdd",
   "metadata": {},
   "outputs": [],
   "source": []
  },
  {
   "cell_type": "code",
   "execution_count": 29,
   "id": "648c8732-f626-4ce6-b627-3506f39a3f2d",
   "metadata": {},
   "outputs": [
    {
     "name": "stdout",
     "output_type": "stream",
     "text": [
      "Q1. Who is current Prime Minister of India ?\n",
      "A. Narendra Modi\n",
      "B. Nitin Gadkari\n",
      "C. Shivraj Chauhan\n",
      "D. Rahul Gandhi\n"
     ]
    },
    {
     "name": "stdin",
     "output_type": "stream",
     "text": [
      "Please enter your answer: a\n"
     ]
    },
    {
     "name": "stdout",
     "output_type": "stream",
     "text": [
      "\n",
      "Q2. which city is called pink city in India ?\n",
      "A. Nagpur\n",
      "B. Kanpur\n",
      "C. Jaipur\n",
      "D. Surat\n"
     ]
    },
    {
     "name": "stdin",
     "output_type": "stream",
     "text": [
      "Please enter your answer: c\n"
     ]
    },
    {
     "name": "stdout",
     "output_type": "stream",
     "text": [
      "\n",
      "Q3. which country has won champions trophy 2025 in cricket ?\n",
      "A. India\n",
      "B. Australia\n",
      "C. South Africa\n",
      "D. New Zealand\n"
     ]
    },
    {
     "name": "stdin",
     "output_type": "stream",
     "text": [
      "Please enter your answer: a\n"
     ]
    },
    {
     "name": "stdout",
     "output_type": "stream",
     "text": [
      "\n",
      "Q4. What is capital of Maharashtra?\n",
      "A. Nagpur\n",
      "B. Mumbai\n",
      "C. Pune\n",
      "D. kolhapur\n"
     ]
    },
    {
     "name": "stdin",
     "output_type": "stream",
     "text": [
      "Please enter your answer: b\n"
     ]
    },
    {
     "name": "stdout",
     "output_type": "stream",
     "text": [
      "\n",
      "Q5. Samrudhhi Mahamarg connects to which two cities at end ?\n",
      "A. Mumbai-Nagpur\n",
      "B. Mumbai-Goa\n",
      "C. Surat-Badodara\n",
      "D. Banglore-Mayuru\n"
     ]
    },
    {
     "name": "stdin",
     "output_type": "stream",
     "text": [
      "Please enter your answer: a\n"
     ]
    },
    {
     "name": "stdout",
     "output_type": "stream",
     "text": [
      "Your total score is: 100\n"
     ]
    }
   ],
   "source": [
    "'''Simple Quiz Application:\n",
    " Create a Python quiz program with 5 questions and\n",
    " multiple-choice answers. Display the score at the end'''\n",
    "\n",
    "Total_score = 0\n",
    "\n",
    "def quiz():\n",
    "    global Total_score\n",
    "    print(\"Q1. Who is current Prime Minister of India ?\")\n",
    "    print(\"A. Narendra Modi\\nB. Nitin Gadkari\\nC. Shivraj Chauhan\\nD. Rahul Gandhi\")\n",
    "    a=input(\"Please enter your answer:\")\n",
    "    if a.upper()== \"A\":\n",
    "        Total_score= Total_score+20\n",
    "    else:\n",
    "        Total_score = Total_score\n",
    "        \n",
    "    print(\"\\nQ2. which city is called pink city in India ?\")\n",
    "    print(\"A. Nagpur\\nB. Kanpur\\nC. Jaipur\\nD. Surat\")\n",
    "    b=input(\"Please enter your answer:\")\n",
    "    if b.upper() == \"C\":\n",
    "        Total_score= Total_score+20\n",
    "    else:\n",
    "        Total_score = Total_score\n",
    "        \n",
    "    print(\"\\nQ3. which country has won champions trophy 2025 in cricket ?\")\n",
    "    print(\"A. India\\nB. Australia\\nC. South Africa\\nD. New Zealand\")\n",
    "    c=input(\"Please enter your answer:\")\n",
    "    if c.upper() == \"A\":\n",
    "        Total_score= Total_score+20\n",
    "    else:\n",
    "        Total_score = Total_score\n",
    "        \n",
    "    print(\"\\nQ4. What is capital of Maharashtra?\")\n",
    "    print(\"A. Nagpur\\nB. Mumbai\\nC. Pune\\nD. kolhapur\")\n",
    "    d=input(\"Please enter your answer:\")\n",
    "    if d.upper() == \"B\":\n",
    "        Total_score= Total_score+20\n",
    "    else:\n",
    "        Total_score = Total_score\n",
    "        \n",
    "    print(\"\\nQ5. Samrudhhi Mahamarg connects to which two cities at end ?\")\n",
    "    print(\"A. Mumbai-Nagpur\\nB. Mumbai-Goa\\nC. Surat-Badodara\\nD. Banglore-Mayuru\")\n",
    "    e=input(\"Please enter your answer:\")\n",
    "    if e.upper() == \"A\":\n",
    "        Total_score= Total_score+20\n",
    "    else:\n",
    "        Total_score = Total_score\n",
    "    \n",
    "    print(f\"Your total score is:\", Total_score)\n",
    "\n",
    "quiz()\n",
    "        \n",
    "\n",
    "\n",
    "\n",
    "\n"
   ]
  },
  {
   "cell_type": "code",
   "execution_count": 45,
   "id": "d2a6117e-2ecc-4460-a052-6daa27fafd98",
   "metadata": {},
   "outputs": [
    {
     "name": "stdout",
     "output_type": "stream",
     "text": [
      "\n",
      "Please select operation to perform from below\n",
      "1. Update exchange rates\n",
      "2. Use curreny converter\n",
      "3. Exit\n"
     ]
    },
    {
     "name": "stdin",
     "output_type": "stream",
     "text": [
      "Please enter from options (1/2/3): 1\n",
      "Please enter new exchange rate for USD-INR:  1.2\n"
     ]
    },
    {
     "name": "stdout",
     "output_type": "stream",
     "text": [
      "New exchange rates is updated\n"
     ]
    },
    {
     "name": "stdin",
     "output_type": "stream",
     "text": [
      "Please enter new exchange rate for USD-EUR:  2.2\n"
     ]
    },
    {
     "name": "stdout",
     "output_type": "stream",
     "text": [
      "New exchange rates is updated\n"
     ]
    },
    {
     "name": "stdin",
     "output_type": "stream",
     "text": [
      "Please enter new exchange rate for USD-GBP:  1.8\n"
     ]
    },
    {
     "name": "stdout",
     "output_type": "stream",
     "text": [
      "New exchange rates is updated\n",
      "\n",
      "Please select operation to perform from below\n",
      "1. Update exchange rates\n",
      "2. Use curreny converter\n",
      "3. Exit\n"
     ]
    },
    {
     "name": "stdin",
     "output_type": "stream",
     "text": [
      "Please enter from options (1/2/3): 2\n",
      "Please enter the amount in USD 100\n"
     ]
    },
    {
     "name": "stdout",
     "output_type": "stream",
     "text": [
      "For entered amount $100.0, the converted amount in INR is :120.00\n",
      "For entered amount $100.0, the converted amount in EUR is :220.00\n",
      "For entered amount $100.0, the converted amount in GBP is :180.00\n",
      "\n",
      "Please select operation to perform from below\n",
      "1. Update exchange rates\n",
      "2. Use curreny converter\n",
      "3. Exit\n"
     ]
    },
    {
     "name": "stdin",
     "output_type": "stream",
     "text": [
      "Please enter from options (1/2/3): 3\n"
     ]
    },
    {
     "name": "stdout",
     "output_type": "stream",
     "text": [
      "Thank you!\n"
     ]
    }
   ],
   "source": [
    "'''    Currency Converter:\n",
    " Create a Python program that converts currency from USD\n",
    " (United States Dollar) to INR (Indian Rupee), EUR (Euro), and\n",
    " GBP (British Pound) based on provided exchange rates. The\n",
    " program should prompt the user to input the amount in USD\n",
    " and the exchange rates for INR, EUR, and GBP. It will then\n",
    " calculate and display the converted amounts for each of these\n",
    " currencies. The user should also be able to input new exchange\n",
    " rates if desired.'''\n",
    "\n",
    "\n",
    "Exchange_rate={ \"USD-INR\" : 1.04, \"USD-EUR\" : 1.06, \"USD-GBP\" : 1.7}\n",
    "\n",
    "def exchange():\n",
    "    for currency_pair, rate in Exchange_rate.items():\n",
    "        rate=float(input(f\"Please enter new exchange rate for {currency_pair}: \"))\n",
    "        Exchange_rate[currency_pair] = rate\n",
    "        print(\"New exchange rates is updated\")\n",
    "\n",
    "def currency_converter():\n",
    "    amount_USD=float(input(\"Please enter the amount in USD\"))    \n",
    "    for currency_pair, rate in Exchange_rate.items():\n",
    "        amount = amount_USD * rate\n",
    "        print(f\"For entered amount ${amount_USD}, the converted amount in {currency_pair.split('-')[1]} is :{amount:.2f}\")\n",
    "\n",
    "def execution():\n",
    "    while True:\n",
    "        print(\"\\nPlease select operation to perform from below\")\n",
    "        print(\"1. Update exchange rates\")\n",
    "        print(\"2. Use curreny converter\")\n",
    "        print(\"3. Exit\")\n",
    "\n",
    "        choice=input(\"Please enter from options (1/2/3):\")\n",
    "\n",
    "        if choice == \"1\":\n",
    "            exchange()\n",
    "        elif choice == \"2\":\n",
    "            currency_converter()\n",
    "        elif choice == \"3\":\n",
    "            print(\"Thank you!\")\n",
    "            break\n",
    "\n",
    "execution()\n",
    "\n",
    "        \n",
    "\n"
   ]
  },
  {
   "cell_type": "code",
   "execution_count": 72,
   "id": "096d36de-dddd-4ac1-8180-a31e6f1849cb",
   "metadata": {},
   "outputs": [
    {
     "name": "stdin",
     "output_type": "stream",
     "text": [
      "Please enter ticket categories you would like to purchase: vip regular\n",
      "Please enter number of tickets you want to buy: 1\n",
      "Please enter number of tickets you want to buy: 5\n"
     ]
    },
    {
     "name": "stdout",
     "output_type": "stream",
     "text": [
      "Tickets are purchased successfully. Total price : 350\n"
     ]
    }
   ],
   "source": [
    "   ''' Event Ticket System:\n",
    " Create a Python program to sell tickets for an event where\n",
    " the user can choose the type of ticket (VIP, Regular, or\n",
    " Economy) and specify the number of tickets they want to\n",
    " purchase. The program should display the price for each\n",
    " ticket type, calculate the total cost based on the number of\n",
    " tickets, and then prompt the user to confirm the purchase.\n",
    " The ticket prices can be predefined, for example:\n",
    " VIP: $100\n",
    " Regular: $50\n",
    " Economy: $20\n",
    " After the user selects the ticket type and number, the\n",
    " program should display the total price for the tickets and\n",
    " confirm the transaction'''\n",
    "\n",
    "\n",
    "ticket_price ={\"VIP\" : 100, \"Regular\" : 50, \"Economy\" : 20 }\n",
    "\n",
    "def event():\n",
    "    global ticket_price\n",
    "    Total_price = 0\n",
    "    a =[]\n",
    "    a = input(\"Please enter ticket categories you would like to purchase:\")\n",
    "    a_ticket = a.split()\n",
    "    for i in a_ticket:\n",
    "        if i.lower() in [key.lower() for key in ticket_price.keys()]:\n",
    "            for category, price in ticket_price.items():\n",
    "                if i.lower()== category.lower():\n",
    "                    b=int(input(\"Please enter number of tickets you want to buy:\"))\n",
    "                    price = ticket_price[category]*b\n",
    "                    Total_price = Total_price + price\n",
    "                    break\n",
    "        else:\n",
    "            print(f\"sorry, we don't have category {i} available\")\n",
    "    print(f\"Tickets are purchased successfully. Total price : {Total_price}\")\n",
    "\n",
    "event()\n",
    "            \n",
    "        "
   ]
  },
  {
   "cell_type": "code",
   "execution_count": 93,
   "id": "4dfcd2cf-e538-4644-b4f0-59a727ccb6d0",
   "metadata": {},
   "outputs": [
    {
     "name": "stdout",
     "output_type": "stream",
     "text": [
      "\n",
      "Please select task you want to perform\n",
      "1. Add a task\n",
      "2. Remove a task\n",
      "3. Mark task as complete\n",
      "4. Show task based on status\n",
      "5. Exit\n"
     ]
    },
    {
     "name": "stdin",
     "output_type": "stream",
     "text": [
      "Please option you want to choose (1/2/3/4/5) 1\n",
      "please enter number of task you want to enter 4\n",
      "Please enter a task you want to add: car wash\n"
     ]
    },
    {
     "name": "stdout",
     "output_type": "stream",
     "text": [
      "Task is successfully added\n"
     ]
    },
    {
     "name": "stdin",
     "output_type": "stream",
     "text": [
      "Please enter a task you want to add: truck wash\n"
     ]
    },
    {
     "name": "stdout",
     "output_type": "stream",
     "text": [
      "Task is successfully added\n"
     ]
    },
    {
     "name": "stdin",
     "output_type": "stream",
     "text": [
      "Please enter a task you want to add: bicycle wash\n"
     ]
    },
    {
     "name": "stdout",
     "output_type": "stream",
     "text": [
      "Task is successfully added\n"
     ]
    },
    {
     "name": "stdin",
     "output_type": "stream",
     "text": [
      "Please enter a task you want to add: bike wash\n"
     ]
    },
    {
     "name": "stdout",
     "output_type": "stream",
     "text": [
      "Task is successfully added\n",
      "{'car wash': 'pending', 'truck wash': 'pending', 'bicycle wash': 'pending', 'bike wash': 'pending'}\n",
      "\n",
      "Please select task you want to perform\n",
      "1. Add a task\n",
      "2. Remove a task\n",
      "3. Mark task as complete\n",
      "4. Show task based on status\n",
      "5. Exit\n"
     ]
    },
    {
     "name": "stdin",
     "output_type": "stream",
     "text": [
      "Please option you want to choose (1/2/3/4/5) 2\n"
     ]
    },
    {
     "name": "stdout",
     "output_type": "stream",
     "text": [
      "{'car wash': 'pending', 'truck wash': 'pending', 'bicycle wash': 'pending', 'bike wash': 'pending'}\n"
     ]
    },
    {
     "name": "stdin",
     "output_type": "stream",
     "text": [
      "Please enter a task you want to remove: bicycle wash\n"
     ]
    },
    {
     "name": "stdout",
     "output_type": "stream",
     "text": [
      "bicycle wash is removed from To_do_list\n",
      "\n",
      "Please select task you want to perform\n",
      "1. Add a task\n",
      "2. Remove a task\n",
      "3. Mark task as complete\n",
      "4. Show task based on status\n",
      "5. Exit\n"
     ]
    },
    {
     "name": "stdin",
     "output_type": "stream",
     "text": [
      "Please option you want to choose (1/2/3/4/5) 3\n"
     ]
    },
    {
     "name": "stdout",
     "output_type": "stream",
     "text": [
      "{'car wash': 'pending', 'truck wash': 'pending', 'bike wash': 'pending'}\n"
     ]
    },
    {
     "name": "stdin",
     "output_type": "stream",
     "text": [
      "Please enter number of task you want to mark complete 2\n",
      "Please enter a task you want to mark as complete bike wash\n"
     ]
    },
    {
     "name": "stdout",
     "output_type": "stream",
     "text": [
      "Task bike wash is marked completed\n"
     ]
    },
    {
     "name": "stdin",
     "output_type": "stream",
     "text": [
      "Please enter a task you want to mark as complete truck wash\n"
     ]
    },
    {
     "name": "stdout",
     "output_type": "stream",
     "text": [
      "Task truck wash is marked completed\n",
      "\n",
      "Please select task you want to perform\n",
      "1. Add a task\n",
      "2. Remove a task\n",
      "3. Mark task as complete\n",
      "4. Show task based on status\n",
      "5. Exit\n"
     ]
    },
    {
     "name": "stdin",
     "output_type": "stream",
     "text": [
      "Please option you want to choose (1/2/3/4/5) 4\n",
      "Please enter task status you want to see: pending\n"
     ]
    },
    {
     "name": "stdout",
     "output_type": "stream",
     "text": [
      "The list of task pending is as below\n",
      "car wash\n",
      "\n",
      "Please select task you want to perform\n",
      "1. Add a task\n",
      "2. Remove a task\n",
      "3. Mark task as complete\n",
      "4. Show task based on status\n",
      "5. Exit\n"
     ]
    },
    {
     "name": "stdin",
     "output_type": "stream",
     "text": [
      "Please option you want to choose (1/2/3/4/5) 5\n"
     ]
    }
   ],
   "source": [
    "   ''' To-Do List Manager:\n",
    " Create a Python program that implements a simple to-do list\n",
    " manager. The program should allow the user to perform the\n",
    " following actions:\n",
    " Add a task: Add a new task to the to-do list.\n",
    " Remove a task: Remove a task from the to-do list by\n",
    " specifying its index or name.\n",
    " Mark a task as done: Mark a specific task as completed.\n",
    " Display pending tasks: Show all tasks that have not yet\n",
    " been marked as done.\n",
    " The program should display a menu with these options, and\n",
    " the user can choose which action to perform. It should store\n",
    " the tasks in a list, and each task can be represented by a\n",
    " dictionary with properties like task name and whether it's\n",
    " done or not.'''\n",
    "\n",
    "To_do_list = {}\n",
    "\n",
    "def add_a_task():\n",
    "    n = int(input(\"please enter number of task you want to enter\"))\n",
    "\n",
    "    for i in range(0,n):\n",
    "        Task  = input(\"Please enter a task you want to add:\").lower()\n",
    "        To_do_list[Task] = \"pending\"\n",
    "        print(\"Task is successfully added\")\n",
    "\n",
    "    print(To_do_list)\n",
    "\n",
    "def remove_a_task():\n",
    "    print(To_do_list)\n",
    "    task = input(\"Please enter a task you want to remove:\").lower()\n",
    "    if task in To_do_list:\n",
    "        del To_do_list[task]\n",
    "        print(f\"{task} is removed from To_do_list\")\n",
    "    else:\n",
    "        print(f\"{task} does not exist in To_do_list\")\n",
    "\n",
    "def task_complete():\n",
    "    print(To_do_list)\n",
    "    n = int(input(\"Please enter number of task you want to mark complete\"))\n",
    "\n",
    "    for i in range(0,n):\n",
    "        task = input(\"Please enter a task you want to mark as complete\").lower()\n",
    "        To_do_list[task] = \"Completed\"\n",
    "        print(f\"Task {task} is marked completed\")\n",
    "\n",
    "def pending_tasks():\n",
    "    \n",
    "    task_status = input(\"Please enter task status you want to see:\").lower() \n",
    "    found = False \n",
    "    for key,value in To_do_list.items():\n",
    "        if value == task_status:\n",
    "            if not found:\n",
    "                print(\"The list of task pending is as below\")\n",
    "                print(f\"{key}\")\n",
    "                found = True\n",
    "    if not found:\n",
    "        print(f\"No task found with status {task_status}\")\n",
    "\n",
    "def execution():\n",
    "    while True:\n",
    "        print(\"\\nPlease select task you want to perform\")\n",
    "        print(\"1. Add a task\")\n",
    "        print(\"2. Remove a task\")\n",
    "        print(\"3. Mark task as complete\")\n",
    "        print(\"4. Show task based on status\")\n",
    "        print(\"5. Exit\")\n",
    "    \n",
    "        choice = input(\"Please option you want to choose (1/2/3/4/5)\")\n",
    "\n",
    "        if choice == \"1\":\n",
    "            add_a_task()\n",
    "        elif choice == \"2\":\n",
    "            remove_a_task()\n",
    "        elif choice == \"3\":\n",
    "            task_complete()\n",
    "        elif choice == \"4\":\n",
    "            pending_tasks()\n",
    "        elif choice == \"5\":\n",
    "            break\n",
    "        else:\n",
    "            print(\"Please enter a correct option\")\n",
    "\n",
    "execution()\n",
    "            \n",
    "\n",
    "    "
   ]
  },
  {
   "cell_type": "code",
   "execution_count": 102,
   "id": "5c894ea1-c995-4458-9f9b-fbe518233c03",
   "metadata": {},
   "outputs": [
    {
     "name": "stdin",
     "output_type": "stream",
     "text": [
      "Please enter a date (YYYY-MM-DD):  1996-07-18\n"
     ]
    },
    {
     "name": "stdout",
     "output_type": "stream",
     "text": [
      "You entered the date: Thursday, July 18, 1996\n",
      "Your age is 28.68 years\n"
     ]
    }
   ],
   "source": [
    "'''Age Calculator:\n",
    " Calculate a person's age based on their date of birth.'''\n",
    "\n",
    "from datetime import datetime\n",
    "\n",
    "def age_calculate():\n",
    "    \n",
    "    date_input = input(\"Please enter a date (YYYY-MM-DD): \")\n",
    "\n",
    "    try:\n",
    "        \n",
    "        date_object = datetime.strptime(date_input, \"%Y-%m-%d\")\n",
    "        print(f\"You entered the date: {date_object.strftime('%A, %B %d, %Y')}\")\n",
    "    except ValueError:\n",
    "        print(\"Invalid date format. Please use YYYY-MM-DD format.\")\n",
    "        return\n",
    "        \n",
    "    today_date = datetime.today()\n",
    "    age_in_days = (today_date - date_object).days\n",
    "    age= age_in_days/365\n",
    "    \n",
    "    print(f\"Your age is {age:.2f} years\")\n",
    "\n",
    "age_calculate()\n"
   ]
  },
  {
   "cell_type": "code",
   "execution_count": 110,
   "id": "f7cb70ee-1313-4daf-852e-b4a9808b4aac",
   "metadata": {},
   "outputs": [
    {
     "name": "stdout",
     "output_type": "stream",
     "text": [
      "\n",
      " Welcome to store\n",
      "1. Add item to cart\n",
      "2. Remove item from cart\n",
      "3. View item in cart\n",
      "4. Exit\n"
     ]
    },
    {
     "name": "stdin",
     "output_type": "stream",
     "text": [
      "Please enter option you want to perform (1/2/3/4)  1\n"
     ]
    },
    {
     "name": "stdout",
     "output_type": "stream",
     "text": [
      "The item available are:\n",
      "{'vim bar': 10, 'coconut oil': 50, 'toothpaste': 25, 'baking soda': 32, 'kurkure': 20}\n"
     ]
    },
    {
     "name": "stdin",
     "output_type": "stream",
     "text": [
      "Please enter a item you want to buy: vim bar\n",
      "Please enter a quantity of item you want to buy 2\n"
     ]
    },
    {
     "name": "stdout",
     "output_type": "stream",
     "text": [
      "vim bar for quantity 2 is added to your cart\n",
      "\n",
      " Welcome to store\n",
      "1. Add item to cart\n",
      "2. Remove item from cart\n",
      "3. View item in cart\n",
      "4. Exit\n"
     ]
    },
    {
     "name": "stdin",
     "output_type": "stream",
     "text": [
      "Please enter option you want to perform (1/2/3/4)  1\n"
     ]
    },
    {
     "name": "stdout",
     "output_type": "stream",
     "text": [
      "The item available are:\n",
      "{'vim bar': 10, 'coconut oil': 50, 'toothpaste': 25, 'baking soda': 32, 'kurkure': 20}\n"
     ]
    },
    {
     "name": "stdin",
     "output_type": "stream",
     "text": [
      "Please enter a item you want to buy: baking soda\n",
      "Please enter a quantity of item you want to buy 23\n"
     ]
    },
    {
     "name": "stdout",
     "output_type": "stream",
     "text": [
      "baking soda for quantity 23 is added to your cart\n",
      "\n",
      " Welcome to store\n",
      "1. Add item to cart\n",
      "2. Remove item from cart\n",
      "3. View item in cart\n",
      "4. Exit\n"
     ]
    },
    {
     "name": "stdin",
     "output_type": "stream",
     "text": [
      "Please enter option you want to perform (1/2/3/4)  2\n",
      "Please enter a item you want to remove from cart vim bar\n"
     ]
    },
    {
     "name": "stdout",
     "output_type": "stream",
     "text": [
      "item vim bar has been removed from cart\n",
      "\n",
      " Welcome to store\n",
      "1. Add item to cart\n",
      "2. Remove item from cart\n",
      "3. View item in cart\n",
      "4. Exit\n"
     ]
    },
    {
     "name": "stdin",
     "output_type": "stream",
     "text": [
      "Please enter option you want to perform (1/2/3/4)  3\n"
     ]
    },
    {
     "name": "stdout",
     "output_type": "stream",
     "text": [
      "your current cart summary is as below:\n",
      "The price for 23 baking soda will be 736 (32 per item)\n",
      "Total cost of items in your cart is 736\n",
      "\n",
      " Welcome to store\n",
      "1. Add item to cart\n",
      "2. Remove item from cart\n",
      "3. View item in cart\n",
      "4. Exit\n"
     ]
    },
    {
     "name": "stdin",
     "output_type": "stream",
     "text": [
      "Please enter option you want to perform (1/2/3/4)  4\n"
     ]
    }
   ],
   "source": [
    "'''   Online Shopping Cart:\n",
    " Simulate a shopping cart where users can add, remove, and\n",
    " view items.'''\n",
    "\n",
    "# grocery item with product and price\n",
    "grocery= {\"vim bar\": 10, \"coconut oil\": 50, \"toothpaste\": 25, \"baking soda\": 32, \"kurkure\": 20 }\n",
    "cart = {}\n",
    "\n",
    "def add_item():\n",
    "    print(\"The item available are:\")\n",
    "    print(grocery)\n",
    "    item = input(\"Please enter a item you want to buy:\").lower()\n",
    "    if item in grocery:\n",
    "        quant = int(input(\"Please enter a quantity of item you want to buy\"))\n",
    "        cart[item]=quant\n",
    "        print(f\"{item} for quantity {quant} is added to your cart\")\n",
    "    else:\n",
    "        print(f\"The {item} is not available\")\n",
    "\n",
    "def remove_item():\n",
    "    a=input(\"Please enter a item you want to remove from cart\")\n",
    "    if a in cart:\n",
    "        del cart[a]\n",
    "        print(f\"item {a} has been removed from cart\")\n",
    "    else:\n",
    "        print(f\"The {item} is not your cart\")\n",
    "\n",
    "def view_item():\n",
    "    if cart:\n",
    "        print(\"your current cart summary is as below:\")\n",
    "        total_cost = 0\n",
    "        for item, quant in cart.items():\n",
    "            if item in grocery:\n",
    "                item_cost= grocery[item]*quant\n",
    "                total_cost= total_cost + item_cost\n",
    "                print(f\"The price for {quant} {item} will be {item_cost} ({grocery[item]} per item)\")\n",
    "        print(f\"Total cost of items in your cart is {total_cost}\")  \n",
    "    else:\n",
    "        print(\"Your cart is empty\")\n",
    "        \n",
    "   \n",
    "\n",
    "def execution():\n",
    "    while True:\n",
    "        print(\"\\n Welcome to store\")\n",
    "        print(\"1. Add item to cart\")\n",
    "        print(\"2. Remove item from cart\")\n",
    "        print(\"3. View item in cart\")\n",
    "        print(\"4. Exit\")\n",
    "\n",
    "        choice = input(\"Please enter option you want to perform (1/2/3/4) \")\n",
    "\n",
    "        if choice == \"1\":\n",
    "            add_item()\n",
    "        elif choice == \"2\":\n",
    "            remove_item()\n",
    "        elif choice == \"3\":\n",
    "            view_item()\n",
    "        elif choice ==\"4\":\n",
    "            break\n",
    "        else:\n",
    "            print(\"Please enter correct option\")\n",
    "\n",
    "execution()"
   ]
  },
  {
   "cell_type": "code",
   "execution_count": 115,
   "id": "36a1ec6f-4214-42a8-aa5a-8da4ddc5d2e4",
   "metadata": {},
   "outputs": [
    {
     "name": "stdout",
     "output_type": "stream",
     "text": [
      "cotent has been reversed\n"
     ]
    }
   ],
   "source": [
    "'''File Content Reverser:\n",
    " Take a text file as input and create a new file with its\n",
    " contents reversed.'''\n",
    "\n",
    "a_city = \"C:/Users/hp/Downloads/City.txt\"\n",
    "r_city = \"C:/Users/hp/Downloads/Reverse_City.txt\"\n",
    "def file_reverse(a_city, r_city):\n",
    "    try:\n",
    "        with open(a_city,'r') as infile:\n",
    "                  content = infile.read()\n",
    "\n",
    "        reversed_content = content[::-1]\n",
    "\n",
    "        with open(r_city,'w') as outfile:\n",
    "            outfile.write(reversed_content)\n",
    "\n",
    "        print(f\"cotent has been reversed\")\n",
    "\n",
    "    except FileNotFoundError:\n",
    "        print(f\"Error: The file {a_city} does not exist.\")\n",
    "   \n",
    "\n",
    "file_reverse(a_city,r_city)"
   ]
  },
  {
   "cell_type": "code",
   "execution_count": 117,
   "id": "7e088086-65bb-4157-a942-aa07cf38db16",
   "metadata": {},
   "outputs": [
    {
     "name": "stdin",
     "output_type": "stream",
     "text": [
      "Please enter your base salary 1200000\n",
      "Please enter a tax percentage based on your income 10\n",
      "Please enter bonus amount if you have any in last financial year 1\n"
     ]
    },
    {
     "name": "stdout",
     "output_type": "stream",
     "text": [
      "Your tax for last financial year is 120000.0\n",
      "Your final salary after tax and bonus is 1080001.0\n"
     ]
    }
   ],
   "source": [
    "   ''' Employee Payroll System:\n",
    " Create a Python program that calculates an employee's\n",
    " salary after accounting for deductions like tax and adding\n",
    " bonuses. The program should allow the user to input the\n",
    " employee's base salary, tax percentage, and any bonuses.\n",
    " It should then calculate the amount deducted for taxes,\n",
    " add the bonus to the salary, and display the final salary\n",
    " after deductions and bonuses. The tax can be calculated\n",
    " as a percentage of the base salary, and the final salary will\n",
    " be the sum of the base salary minus tax plus any bonus. '''\n",
    "\n",
    "def salary():\n",
    "    base_salary = int(input(\"Please enter your base salary\"))\n",
    "    tax_perc = int(input(\"Please enter a tax percentage based on your income\"))\n",
    "    bonus = int(input(\"Please enter bonus amount if you have any in last financial year\"))\n",
    "\n",
    "    tax = (tax_perc*base_salary)/100\n",
    "    salary_without_bonus = base_salary - (tax)\n",
    "    final_salary = salary_without_bonus + bonus\n",
    "\n",
    "    print(f\"Your tax for last financial year is {tax}\")\n",
    "    print(f\"Your final salary after tax and bonus is {final_salary}\")\n",
    "\n",
    "salary()"
   ]
  },
  {
   "cell_type": "code",
   "execution_count": 124,
   "id": "1a125739-597f-48e2-86d0-f565b58c3c57",
   "metadata": {},
   "outputs": [
    {
     "name": "stdin",
     "output_type": "stream",
     "text": [
      "Please enter annual rate 12\n",
      "Please enter a principal amount 100000\n",
      "Please enter a time duration in months 24\n"
     ]
    },
    {
     "name": "stdout",
     "output_type": "stream",
     "text": [
      "The monthly EMI is: ₹4707.35\n"
     ]
    }
   ],
   "source": [
    "  ''' Bank Loan Calculator:\n",
    " Calculate monthly payments for a loan based on principal,\n",
    " rate, and time.'''\n",
    "\n",
    "def bank_loan():\n",
    "\n",
    "    annual_rate =int(input(\"Please enter annual rate\"))\n",
    "    principal = int(input(\"Please enter a principal amount\"))\n",
    "    time = int(input(\"Please enter a time duration in months\"))\n",
    "    \n",
    "    monthly_rate = annual_rate/(12*100)\n",
    "\n",
    "    emi = (principal * monthly_rate * (1+monthly_rate)**time)/((1 + monthly_rate)**time-1)\n",
    "\n",
    "    print(f\"The monthly EMI is: rs{emi:.2f}\")\n",
    "\n",
    "bank_loan()\n",
    "\n"
   ]
  },
  {
   "cell_type": "code",
   "execution_count": 33,
   "id": "ab56dc84-71f9-4a3a-99b3-d226f30e1755",
   "metadata": {},
   "outputs": [
    {
     "name": "stdin",
     "output_type": "stream",
     "text": [
      "Enter your message:  TatA\n",
      "Enter shift value (e.g., 3):  3\n"
     ]
    },
    {
     "name": "stdout",
     "output_type": "stream",
     "text": [
      "Encrypted message: WdwD\n",
      "Decrypted message: TatA\n"
     ]
    }
   ],
   "source": [
    "   ''' Simple Encryption and Decryption:\n",
    " Implement a basic Caesar cipher to encrypt and decrypt\n",
    " messages.'''\n",
    "\n",
    "# Function to encrypt a message using Caesar Cipher\n",
    "def encrypt_message(plain_text, shift):\n",
    "    encrypted_text = \"\"\n",
    "    \n",
    "    # Loop through each character in the plain_text\n",
    "    for char in plain_text:\n",
    "        if char.isupper():\n",
    "            encrypted_text += chr((ord(char) + shift - 65) % 26 + 65)\n",
    "        elif char.islower():\n",
    "            encrypted_text += chr((ord(char) + shift - 97) % 26 + 97)\n",
    "        else:\n",
    "            encrypted_text += char\n",
    "    \n",
    "    return encrypted_text\n",
    "\n",
    "\n",
    "# Function to decrypt a message using Caesar Cipher\n",
    "def decrypt_message(encrypted_text, shift):\n",
    "    decrypted_text = \"\"\n",
    "    \n",
    "  \n",
    "    for char in encrypted_text:\n",
    "        if char.isupper():\n",
    "            decrypted_text += chr((ord(char) - shift - 65) % 26 + 65)\n",
    "        elif char.islower():\n",
    "            decrypted_text += chr((ord(char) - shift - 97) % 26 + 97)\n",
    "        \n",
    "        else:\n",
    "            decrypted_text += char\n",
    "    \n",
    "    return decrypted_text\n",
    "\n",
    "\n",
    "# Main code to take input and perform encryption and decryption\n",
    "if __name__ == \"__main__\":\n",
    "    message = input(\"Enter your message: \")\n",
    "    shift_value = int(input(\"Enter shift value (e.g., 3): \"))\n",
    "    \n",
    "    encrypted = encrypt_message(message, shift_value)\n",
    "    print(f\"Encrypted message: {encrypted}\")\n",
    "    \n",
    "    decrypted = decrypt_message(encrypted, shift_value)\n",
    "    print(f\"Decrypted message: {decrypted}\")\n",
    "\n",
    "\n",
    "\n"
   ]
  },
  {
   "cell_type": "code",
   "execution_count": 140,
   "id": "56c0b1b1-9188-4165-a643-12898bbf78d7",
   "metadata": {},
   "outputs": [
    {
     "name": "stdout",
     "output_type": "stream",
     "text": [
      "Welcome to theater\n",
      "Movies available\n",
      "['Gardian of galaxy', 'Iron Man', 'Batman', 'SuperMan']\n",
      "Time slots available\n",
      "['10:30', '12:00', '2:00', '6:00']\n"
     ]
    },
    {
     "name": "stdin",
     "output_type": "stream",
     "text": [
      "Please enter a movie you want to see iron man\n",
      "Please enter a time slot you want to select 2:00\n",
      "Please enter number of catergories you want to buy 2\n",
      "Please enter category(Regular/VIP) you want to select VIP\n",
      "Number of ticket you want to buy 2\n"
     ]
    },
    {
     "name": "stdout",
     "output_type": "stream",
     "text": [
      " 2 tickets are booked for VIP  seats for price Rs 500\n"
     ]
    },
    {
     "name": "stdin",
     "output_type": "stream",
     "text": [
      "Please enter category(Regular/VIP) you want to select Regular\n",
      "Number of ticket you want to buy 5\n"
     ]
    },
    {
     "name": "stdout",
     "output_type": "stream",
     "text": [
      " 5 tickets are booked for Regular  seats for price Rs 750\n",
      "Total price will be 1250\n"
     ]
    }
   ],
   "source": [
    "  ''' Movie Ticket Booking System:\n",
    " Write a program to book movie tickets by selecting movie,\n",
    " time, and number of seats. Prints the tickets with price.'''\n",
    "\n",
    "Movies_on =[\"Gardian of galaxy\", \"Iron Man\",\"Batman\",\"SuperMan\"]\n",
    "Time_slots = [\"10:30\",\"12:00\",\"2:00\",\"6:00\"]\n",
    "price = {\"VIP\":250, \"Regular\": 150}\n",
    "\n",
    "\n",
    "def movie_booking():\n",
    "\n",
    "    print(\"Welcome to theater\")\n",
    "    print(\"Movies available\")\n",
    "    print(Movies_on)\n",
    "    print(\"Time slots available\")\n",
    "    print(Time_slots)\n",
    "    \n",
    "    a=input(\"Please enter a movie you want to see\").strip()\n",
    "    b=input(\"Please enter a time slot you want to select\").strip()\n",
    "    total_price = 0\n",
    "    \n",
    "    if a.lower() in [movie.lower() for movie in Movies_on ]:\n",
    "        if b in Time_slots:\n",
    "            a_t = int(input(\"Please enter number of catergories you want to buy\"))\n",
    "            for i in range(0, a_t):\n",
    "                d = input(\"Please enter category(Regular/VIP) you want to select\").strip()\n",
    "                if d in price :\n",
    "                    c= int(input(\"Number of ticket you want to buy\"))\n",
    "                    booked_ticket[d] = c\n",
    "                    price_t = c*price[d]\n",
    "                    total_price = total_price + price_t\n",
    "                    print(f\" {c} tickets are booked for {d}  seats for price Rs {price_t}\")\n",
    "                else:\n",
    "                    print(\"Invalid category selected, please choose either VIP or Regular\")\n",
    "        else:\n",
    "            print(\"Please select correct time slot\")\n",
    "\n",
    "    else:\n",
    "        print(\"Please enter correct movie name\")\n",
    "\n",
    "    print(f\"Total price will be {total_price}\")\n",
    "\n",
    "movie_booking()\n",
    "        \n",
    "    "
   ]
  },
  {
   "cell_type": "code",
   "execution_count": 142,
   "id": "dad75878-81a4-4117-a8de-3d7899ce4908",
   "metadata": {},
   "outputs": [
    {
     "name": "stdin",
     "output_type": "stream",
     "text": [
      "Please enter your weight in kgs 89\n",
      "Please enter your height in meters 1.72\n"
     ]
    },
    {
     "name": "stdout",
     "output_type": "stream",
     "text": [
      "Your BMI is 30.08382909680909\n",
      "You are obese\n"
     ]
    }
   ],
   "source": [
    "''' Create a Python program that calculates the Body Mass\n",
    " Index (BMI) based on the user's height and weight. The\n",
    " BMI can be calculated\n",
    " The program should prompt the user to input their weight\n",
    " and height, calculate the BMI using the above formula,\n",
    " and then categorize the BMI according to standard ranges:\n",
    " Underweight: BMI < 18.5\n",
    " Normal weight: 18.5 <= BMI < 24.9\n",
    " Overweight: 25 <= BMI < 29.9\n",
    " Obesity: BMI >= 30\n",
    " The program should then display the BMI value along with\n",
    " the corresponding category'''\n",
    "\n",
    "def BMI():\n",
    "\n",
    "    weight = int(input(\"Please enter your weight in kgs\"))\n",
    "    height= float(input(\"Please enter your height in meters\"))\n",
    "\n",
    "    BMI = weight/ (height**2)\n",
    "\n",
    "    print(f\"Your BMI is {BMI}\")\n",
    "\n",
    "    if BMI < 18.5 :\n",
    "        print(\"You are underweight\")\n",
    "    elif BMI >=18.5 and BMI < 24.9 :\n",
    "        print(\"You are normal weight\")\n",
    "    elif BMI >=25 and BMI < 29.9:\n",
    "        print(\"You are overweight\")\n",
    "    else:\n",
    "        print(\"You are obese\")\n",
    "BMI()"
   ]
  },
  {
   "cell_type": "code",
   "execution_count": 153,
   "id": "c626ff79-b876-4b52-b13d-db45cdd6e1d0",
   "metadata": {},
   "outputs": [
    {
     "data": {
      "application/javascript": [
       "\n",
       "        if (window._pyforest_update_imports_cell) { window._pyforest_update_imports_cell('import random'); }\n",
       "    "
      ],
      "text/plain": [
       "<IPython.core.display.Javascript object>"
      ]
     },
     "metadata": {},
     "output_type": "display_data"
    },
    {
     "data": {
      "application/javascript": [
       "\n",
       "        if (window._pyforest_update_imports_cell) { window._pyforest_update_imports_cell('import random'); }\n",
       "    "
      ],
      "text/plain": [
       "<IPython.core.display.Javascript object>"
      ]
     },
     "metadata": {},
     "output_type": "display_data"
    },
    {
     "name": "stdout",
     "output_type": "stream",
     "text": [
      "Your first dice value is 3\n",
      "Your second dice value is 3\n"
     ]
    }
   ],
   "source": [
    "'''Dice Rolling Simulator:\n",
    " Simulate rolling two dice and print the results.'''\n",
    "\n",
    "\n",
    "import random\n",
    "\n",
    "def dice():\n",
    "\n",
    "    a = random.randint(1,6)\n",
    "    b= random.randint(1,6)\n",
    "\n",
    "    print(f\"Your first dice value is {a}\")\n",
    "    print(f\"Your second dice value is {b}\")\n",
    "\n",
    "dice()"
   ]
  },
  {
   "cell_type": "code",
   "execution_count": 156,
   "id": "14cc607d-b17d-4836-93e5-f1557d233f52",
   "metadata": {},
   "outputs": [
    {
     "name": "stdin",
     "output_type": "stream",
     "text": [
      "Please enter a email address abc@xyz.com\n"
     ]
    },
    {
     "name": "stdout",
     "output_type": "stream",
     "text": [
      "Valid email address: abc@xyz.com\n",
      "Username: abc\n",
      "Domain: xyz.com\n"
     ]
    }
   ],
   "source": [
    "'''Email Parser:\n",
    " Validate if a given string is a valid email address.\n",
    " Extract the username and domain from an email address.'''\n",
    "\n",
    "import re\n",
    "\n",
    "def email_parser():\n",
    "\n",
    "    a = input(\"Please enter a email address\")\n",
    "    email_pattern = r'^[a-zA-Z0-9_.+-]+@[a-zA-Z0-9-]+\\.[a-zA-Z0-9-.]+$'\n",
    "\n",
    "    if re.match(email_pattern, a):\n",
    "        print(f\"Valid email address: {a}\")\n",
    "        \n",
    "        \n",
    "        username, domain = a.split('@')\n",
    "        print(f\"Username: {username}\")\n",
    "        print(f\"Domain: {domain}\")\n",
    "    else:\n",
    "        print(\"Invalid email address\")\n",
    "\n",
    "email_parser()"
   ]
  },
  {
   "cell_type": "code",
   "execution_count": 175,
   "id": "f93290de-4252-468e-bc44-c7aa100a3753",
   "metadata": {},
   "outputs": [
    {
     "name": "stdin",
     "output_type": "stream",
     "text": [
      "Please enter distance you are travelling 100\n",
      "Please enter number of type of passenger travelling 3\n",
      "Please enter type of passenger that is travelling (Adult/Child/Senior) adult\n",
      "please input number of passenger that is travelling: 1\n"
     ]
    },
    {
     "name": "stdout",
     "output_type": "stream",
     "text": [
      "Fare for adult is Rs 500 for 1 passengers\n"
     ]
    },
    {
     "name": "stdin",
     "output_type": "stream",
     "text": [
      "Please enter type of passenger that is travelling (Adult/Child/Senior) child\n",
      "please input number of passenger that is travelling: 1\n"
     ]
    },
    {
     "name": "stdout",
     "output_type": "stream",
     "text": [
      "Fare for child is Rs 300 for 1 passengers\n"
     ]
    },
    {
     "name": "stdin",
     "output_type": "stream",
     "text": [
      "Please enter type of passenger that is travelling (Adult/Child/Senior) senior\n",
      "please input number of passenger that is travelling: 1\n"
     ]
    },
    {
     "name": "stdout",
     "output_type": "stream",
     "text": [
      "Fare for senior is Rs 400 for 1 passengers\n",
      "The total fare is Rs 1200\n"
     ]
    }
   ],
   "source": [
    "'''Create a Python program that calculates the fare for a\n",
    " journey based on the distance traveled and the type of\n",
    " passenger (adult, child, or senior). The program should\n",
    " prompt the user to input the distance traveled (in\n",
    " kilometers) and the type of passenger. Based on this\n",
    " input, the fare will be calculated using predefined rates for\n",
    " each type of passenger. For example:\n",
    " Adult: $5 per kilometer\n",
    " Child: $3 per kilometer\n",
    " Senior: $4 per kilometer\n",
    " The program should apply the appropriate fare rate based\n",
    " on the passenger type and distance travelled, then display\n",
    " the total fare. Additionally, the program could provide a\n",
    " discount for seniors, if applicable.'''\n",
    "\n",
    "\n",
    "type_pass = {\"Adult\": 5, \"Child\":3, \"Senior\":4}\n",
    "\n",
    "def fare ():\n",
    "    \n",
    "    dist=int(input(\"Please enter distance you are travelling\"))\n",
    "    total_fare = 0\n",
    "    \n",
    "    n_c = int(input(\"Please enter number of type of passenger travelling\"))\n",
    "    for i in range(n_c):\n",
    "        pass_com =input(\"Please enter type of passenger that is travelling (Adult/Child/Senior)\").strip()\n",
    "        if pass_com.capitalize() in type_pass:\n",
    "            n = int(input(\"please input number of passenger that is travelling:\"))\n",
    "            fare = dist*type_pass[pass_com.capitalize()]*n\n",
    "            print(f\"Fare for {pass_com} is Rs {fare} for {n} passengers\")\n",
    "            total_fare = total_fare + fare\n",
    "        else:\n",
    "                print(\"Invalid passenger type entered. Please enter Adult, Child, or Senior.\")\n",
    "    print(f\"The total fare is Rs {total_fare}\")\n",
    "\n",
    "\n",
    "fare()\n",
    "                \n",
    "                \n",
    "\n"
   ]
  },
  {
   "cell_type": "code",
   "execution_count": 2,
   "id": "6f17b13f-107b-4a3a-b155-6eec1a77a50b",
   "metadata": {},
   "outputs": [
    {
     "name": "stdout",
     "output_type": "stream",
     "text": [
      "1. Roll the dice\n",
      "2. Exit\n"
     ]
    },
    {
     "name": "stdin",
     "output_type": "stream",
     "text": [
      "Please enter a option you want to select(1/2) 1\n",
      "Please enter a guess for rolling dice 1\n"
     ]
    },
    {
     "name": "stdout",
     "output_type": "stream",
     "text": [
      "Better luck next time\n",
      "Your current score is as below:\n",
      "{'Win': 0, 'Loss': 1}\n",
      "1. Roll the dice\n",
      "2. Exit\n"
     ]
    },
    {
     "name": "stdin",
     "output_type": "stream",
     "text": [
      "Please enter a option you want to select(1/2) 1\n",
      "Please enter a guess for rolling dice 2\n"
     ]
    },
    {
     "name": "stdout",
     "output_type": "stream",
     "text": [
      "Better luck next time\n",
      "Your current score is as below:\n",
      "{'Win': 0, 'Loss': 2}\n",
      "1. Roll the dice\n",
      "2. Exit\n"
     ]
    },
    {
     "name": "stdin",
     "output_type": "stream",
     "text": [
      "Please enter a option you want to select(1/2) 1\n",
      "Please enter a guess for rolling dice 3\n"
     ]
    },
    {
     "name": "stdout",
     "output_type": "stream",
     "text": [
      "Better luck next time\n",
      "Your current score is as below:\n",
      "{'Win': 0, 'Loss': 3}\n",
      "1. Roll the dice\n",
      "2. Exit\n"
     ]
    },
    {
     "name": "stdin",
     "output_type": "stream",
     "text": [
      "Please enter a option you want to select(1/2) 1\n",
      "Please enter a guess for rolling dice 4\n"
     ]
    },
    {
     "name": "stdout",
     "output_type": "stream",
     "text": [
      "Better luck next time\n",
      "Your current score is as below:\n",
      "{'Win': 0, 'Loss': 4}\n",
      "1. Roll the dice\n",
      "2. Exit\n"
     ]
    },
    {
     "name": "stdin",
     "output_type": "stream",
     "text": [
      "Please enter a option you want to select(1/2) 1\n",
      "Please enter a guess for rolling dice 5\n"
     ]
    },
    {
     "name": "stdout",
     "output_type": "stream",
     "text": [
      "Better luck next time\n",
      "Your current score is as below:\n",
      "{'Win': 0, 'Loss': 5}\n",
      "1. Roll the dice\n",
      "2. Exit\n"
     ]
    },
    {
     "name": "stdin",
     "output_type": "stream",
     "text": [
      "Please enter a option you want to select(1/2) 1\n",
      "Please enter a guess for rolling dice 6\n"
     ]
    },
    {
     "name": "stdout",
     "output_type": "stream",
     "text": [
      "Better luck next time\n",
      "Your current score is as below:\n",
      "{'Win': 0, 'Loss': 6}\n",
      "1. Roll the dice\n",
      "2. Exit\n"
     ]
    },
    {
     "name": "stdin",
     "output_type": "stream",
     "text": [
      "Please enter a option you want to select(1/2) 1\n",
      "Please enter a guess for rolling dice 3\n"
     ]
    },
    {
     "name": "stdout",
     "output_type": "stream",
     "text": [
      "Better luck next time\n",
      "Your current score is as below:\n",
      "{'Win': 0, 'Loss': 7}\n",
      "1. Roll the dice\n",
      "2. Exit\n"
     ]
    },
    {
     "name": "stdin",
     "output_type": "stream",
     "text": [
      "Please enter a option you want to select(1/2) 1\n",
      "Please enter a guess for rolling dice 2\n"
     ]
    },
    {
     "name": "stdout",
     "output_type": "stream",
     "text": [
      "Better luck next time\n",
      "Your current score is as below:\n",
      "{'Win': 0, 'Loss': 8}\n",
      "1. Roll the dice\n",
      "2. Exit\n"
     ]
    },
    {
     "name": "stdin",
     "output_type": "stream",
     "text": [
      "Please enter a option you want to select(1/2) 2\n"
     ]
    }
   ],
   "source": [
    "'''    Digital Dice Game:\n",
    " Create a Python program that simulates rolling a digital dice.\n",
    " The program should allow the user to roll the dice, and based\n",
    " on the outcome, track the number of wins and losses. \n",
    "For example:\n",
    " A win is recorded if the dice roll matches a pre-determined\n",
    " \"winning number\" (for example, 6).\n",
    " 1.\n",
    " A loss is recorded if the dice roll is any other number. 2.\n",
    " The program should continue asking the user if they want to\n",
    " roll again, and it should keep track of the total wins and losses.\n",
    " After the user decides to stop, the program should display the\n",
    " final score, showing the number of wins and losses.'''\n",
    "\n",
    "import random\n",
    "\n",
    "record ={\"Win\":0,\"Loss\":0}\n",
    "\n",
    "def dice():\n",
    "    while True:\n",
    "        try:\n",
    "            a= int(input(\"Please enter a guess for rolling dice\"))\n",
    "            if a <1 and a > 6:\n",
    "                print(\"Enter a number between 1 and 6\")\n",
    "                continue\n",
    "            break\n",
    "        except:\n",
    "            print(\"Invalid input. Please enter a number between 1 and 6.\")\n",
    "    b = random.randint(1,6)\n",
    "    if a == b :\n",
    "        record[\"Win\"]=record[\"Win\"]+1\n",
    "        print(\"Congrats, your guess is correct\")\n",
    "    else:\n",
    "        record[\"Loss\"] = record[\"Loss\"]+1\n",
    "        print(\"Better luck next time\")\n",
    "    print(\"Your current score is as below:\")\n",
    "    print(record)\n",
    "\n",
    "def execution():    \n",
    "    while True:\n",
    "        print(\"1. Roll the dice\")\n",
    "        print(\"2. Exit\")\n",
    "    \n",
    "        choice =input(\"Please enter a option you want to select(1/2)\")\n",
    "    \n",
    "        if choice == \"1\":\n",
    "            dice()\n",
    "        elif choice == \"2\":\n",
    "            break\n",
    "        else:\n",
    "            print(\"Please enter correct option\")\n",
    "\n",
    "execution()\n",
    "       "
   ]
  },
  {
   "cell_type": "code",
   "execution_count": 21,
   "id": "c80a2798-e791-4fb6-9873-3f31e8f42a60",
   "metadata": {},
   "outputs": [
    {
     "name": "stdin",
     "output_type": "stream",
     "text": [
      "Please enter a total amount of purchase  120\n"
     ]
    },
    {
     "name": "stdout",
     "output_type": "stream",
     "text": [
      "Your discounted price is rs 102.00\n"
     ]
    }
   ],
   "source": [
    "    '''Shopping Discount System:\n",
    " Apply Different Discount Percentages Based on Purchase Amount\n",
    " Create a Python program that applies different discount\n",
    " percentages based on the total purchase amount. The program\n",
    " should prompt the user for the total purchase amount and then\n",
    " apply the following discount rules:\n",
    " Purchase amount < $50: No discount. 1.\n",
    " Purchase amount between $50 and $100: 10% discount. 2.\n",
    " Purchase amount between $100 and $200: 15% discount. 3.\n",
    " Purchase amount > $200: 20% discount. 4.\n",
    " The program should calculate the discount based on the total and\n",
    " display the final amount after applying the discount.'''\n",
    "\n",
    "def discount_system():\n",
    "    \n",
    "        a = int(input(\"Please enter a total amount of purchase \"))\n",
    "        discounted_price = 0\n",
    "        \n",
    "        if a < 50:\n",
    "            print(\"Not eligible for discount\")\n",
    "        elif a >= 50 and a < 100:\n",
    "            discounted_price = a - ((a*10)/100)\n",
    "            print(f\"Your discounted price is rs {discounted_price:.2f}\")\n",
    "        elif a >=100 and a < 200:\n",
    "            discounted_price = a - ((a*15)/100)\n",
    "            print(f\"Your discounted price is rs {discounted_price:.2f}\")\n",
    "        else:\n",
    "            discounted_price = a - ((a*20)/100)\n",
    "            print(f\"Your discounted price is rs {discounted_price:.2f}\")\n",
    "\n",
    "discount_system()\n",
    "        "
   ]
  },
  {
   "cell_type": "code",
   "execution_count": 32,
   "id": "cfccf063-736a-471a-a692-10e2471f1122",
   "metadata": {},
   "outputs": [
    {
     "name": "stdin",
     "output_type": "stream",
     "text": [
      "please enter number of items you purchased 2\n",
      "Please enter name of item potato\n",
      "please enter price of item 3\n",
      "Please enter quantity you purchased 10\n",
      "Please enter name of item tomato\n",
      "please enter price of item 3\n",
      "Please enter quantity you purchased 10\n"
     ]
    },
    {
     "name": "stdout",
     "output_type": "stream",
     "text": [
      "Below is itemized list\n",
      "Item:Potato, Unit_price rs:3.0, Quantity:10\n",
      "Item:Tomato, Unit_price rs:3.0, Quantity:10\n",
      "You have purchased 10 pcs of Potato for total of rs 30.0\n",
      "You have purchased 10 pcs of Tomato for total of rs 30.0\n",
      "Your total amount is 60.00\n"
     ]
    },
    {
     "name": "stdin",
     "output_type": "stream",
     "text": [
      "Please enter a total amount of purchase  60\n"
     ]
    },
    {
     "name": "stdout",
     "output_type": "stream",
     "text": [
      "Your discounted price is rs 54.00\n"
     ]
    }
   ],
   "source": [
    "'''Generate a Simple Invoice for a Customer Based on Items\n",
    " Purchased, Quantities, and Prices\n",
    " Create a Python program that generates a simple invoice for a customer. The program\n",
    " should allow the user to input the name, price, and quantity of items purchased. It should\n",
    " then calculate the total cost for each item (price × quantity), display the itemized list, and\n",
    " include a final total for the invoice. If applicable, it should apply the discount from the\n",
    " previous section to the total cost and display the final amount.\n",
    " Here's a possible structure for the invoice:\n",
    " Item name 1.\n",
    " Item price 2.\n",
    " Item quantity 3.\n",
    " Total for that item 4.\n",
    " Subtotal of all items 5.\n",
    " Discount applied (if any) 6.\n",
    " Final amount to be paid'''\n",
    "\n",
    "def simple_invoice():\n",
    "    \n",
    "    name_price = {}\n",
    "    name_quantity = {}\n",
    "\n",
    "    Total_amount = 0\n",
    "\n",
    "    n = int(input(\"please enter number of items you purchased\"))\n",
    "    for i in range (n):\n",
    "        item_name =input(\"Please enter name of item\").capitalize().strip()\n",
    "        item_per_price = float(input(\"please enter price of item\"))\n",
    "        item_quantity = int(input(f\"Please enter quantity you purchased\"))\n",
    "        name_price[item_name] = item_per_price\n",
    "        name_quantity[item_name] = item_quantity\n",
    "        item_amount = item_per_price * item_quantity\n",
    "        Total_amount = Total_amount + item_amount\n",
    "        \n",
    "    print(\"Below is itemized list\")\n",
    "    for item_name, item_per_price in name_price.items():\n",
    "        item_quantity_value = name_quantity[item_name]\n",
    "        if item_name in name_quantity:\n",
    "            print(f\"Item:{item_name}, Unit_price rs:{item_per_price}, Quantity:{item_quantity_value}\")\n",
    "            \n",
    "    for item_name, item_per_price in name_price.items():\n",
    "        item_quantity_value_2 = name_quantity[item_name]\n",
    "        if item_name in name_quantity:\n",
    "            print(f\"You have purchased {item_quantity_value_2} pcs of {item_name} for total of rs {item_amount}\")\n",
    "            \n",
    "    print(f\"Your total amount is {Total_amount:.2f}\")\n",
    "    discount_system()\n",
    "\n",
    "simple_invoice()\n",
    "        \n",
    "\n",
    "        \n",
    "        "
   ]
  }
 ],
 "metadata": {
  "kernelspec": {
   "display_name": "Python 3 (ipykernel)",
   "language": "python",
   "name": "python3"
  },
  "language_info": {
   "codemirror_mode": {
    "name": "ipython",
    "version": 3
   },
   "file_extension": ".py",
   "mimetype": "text/x-python",
   "name": "python",
   "nbconvert_exporter": "python",
   "pygments_lexer": "ipython3",
   "version": "3.11.7"
  }
 },
 "nbformat": 4,
 "nbformat_minor": 5
}
